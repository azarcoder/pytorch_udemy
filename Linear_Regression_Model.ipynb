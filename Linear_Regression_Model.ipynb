{
  "nbformat": 4,
  "nbformat_minor": 0,
  "metadata": {
    "colab": {
      "provenance": [],
      "authorship_tag": "ABX9TyMyBwd2ZIhS6Ao7tKxXycvb",
      "include_colab_link": true
    },
    "kernelspec": {
      "name": "python3",
      "display_name": "Python 3"
    },
    "language_info": {
      "name": "python"
    }
  },
  "cells": [
    {
      "cell_type": "markdown",
      "metadata": {
        "id": "view-in-github",
        "colab_type": "text"
      },
      "source": [
        "<a href=\"https://colab.research.google.com/github/azarcoder/pytorch_udemy/blob/main/Linear_Regression_Model.ipynb\" target=\"_parent\"><img src=\"https://colab.research.google.com/assets/colab-badge.svg\" alt=\"Open In Colab\"/></a>"
      ]
    },
    {
      "cell_type": "markdown",
      "source": [
        "# Building a Linear Regression Model using PyTorch to predict medical insurance costs based on people's data (age, sex, BMI, etc.)."
      ],
      "metadata": {
        "id": "4-8cnBZTHxiv"
      }
    },
    {
      "cell_type": "markdown",
      "source": [
        "# pipeline\n",
        "1. Collect data\n",
        "2. Data preprocessing\n",
        "3. Feature engineering\n",
        "4. Model Training\n",
        "5. Testing  "
      ],
      "metadata": {
        "id": "TrL-SJ-H4gJW"
      }
    },
    {
      "cell_type": "markdown",
      "source": [
        "  - **dataset** [Medical Cost Personal Datasets](https://www.kaggle.com/datasets/mirichoi0218/insurance)\n",
        "  "
      ],
      "metadata": {
        "id": "COfFg5za5RSf"
      }
    },
    {
      "cell_type": "code",
      "execution_count": null,
      "metadata": {
        "colab": {
          "base_uri": "https://localhost:8080/"
        },
        "id": "kAwfyrvnyxGA",
        "outputId": "a35744a6-1a51-42cd-b9f7-53980b96aa89"
      },
      "outputs": [
        {
          "output_type": "stream",
          "name": "stdout",
          "text": [
            "Requirement already satisfied: kaggle in /usr/local/lib/python3.11/dist-packages (1.7.4.2)\n",
            "Requirement already satisfied: bleach in /usr/local/lib/python3.11/dist-packages (from kaggle) (6.2.0)\n",
            "Requirement already satisfied: certifi>=14.05.14 in /usr/local/lib/python3.11/dist-packages (from kaggle) (2025.1.31)\n",
            "Requirement already satisfied: charset-normalizer in /usr/local/lib/python3.11/dist-packages (from kaggle) (3.4.1)\n",
            "Requirement already satisfied: idna in /usr/local/lib/python3.11/dist-packages (from kaggle) (3.10)\n",
            "Requirement already satisfied: protobuf in /usr/local/lib/python3.11/dist-packages (from kaggle) (5.29.4)\n",
            "Requirement already satisfied: python-dateutil>=2.5.3 in /usr/local/lib/python3.11/dist-packages (from kaggle) (2.8.2)\n",
            "Requirement already satisfied: python-slugify in /usr/local/lib/python3.11/dist-packages (from kaggle) (8.0.4)\n",
            "Requirement already satisfied: requests in /usr/local/lib/python3.11/dist-packages (from kaggle) (2.32.3)\n",
            "Requirement already satisfied: setuptools>=21.0.0 in /usr/local/lib/python3.11/dist-packages (from kaggle) (75.2.0)\n",
            "Requirement already satisfied: six>=1.10 in /usr/local/lib/python3.11/dist-packages (from kaggle) (1.17.0)\n",
            "Requirement already satisfied: text-unidecode in /usr/local/lib/python3.11/dist-packages (from kaggle) (1.3)\n",
            "Requirement already satisfied: tqdm in /usr/local/lib/python3.11/dist-packages (from kaggle) (4.67.1)\n",
            "Requirement already satisfied: urllib3>=1.15.1 in /usr/local/lib/python3.11/dist-packages (from kaggle) (2.3.0)\n",
            "Requirement already satisfied: webencodings in /usr/local/lib/python3.11/dist-packages (from kaggle) (0.5.1)\n"
          ]
        }
      ],
      "source": [
        "!pip install kaggle"
      ]
    },
    {
      "cell_type": "code",
      "source": [
        "from google.colab import files\n",
        "files.upload()  # Upload your kaggle.json here\n"
      ],
      "metadata": {
        "colab": {
          "base_uri": "https://localhost:8080/",
          "height": 91
        },
        "id": "g5LiM1QU2d5G",
        "outputId": "a663e4ff-6697-4a7a-ccb3-e77eac467071"
      },
      "execution_count": 1,
      "outputs": [
        {
          "output_type": "display_data",
          "data": {
            "text/plain": [
              "<IPython.core.display.HTML object>"
            ],
            "text/html": [
              "\n",
              "     <input type=\"file\" id=\"files-88e342c0-3d0e-48a1-9793-a8f2451e1ca5\" name=\"files[]\" multiple disabled\n",
              "        style=\"border:none\" />\n",
              "     <output id=\"result-88e342c0-3d0e-48a1-9793-a8f2451e1ca5\">\n",
              "      Upload widget is only available when the cell has been executed in the\n",
              "      current browser session. Please rerun this cell to enable.\n",
              "      </output>\n",
              "      <script>// Copyright 2017 Google LLC\n",
              "//\n",
              "// Licensed under the Apache License, Version 2.0 (the \"License\");\n",
              "// you may not use this file except in compliance with the License.\n",
              "// You may obtain a copy of the License at\n",
              "//\n",
              "//      http://www.apache.org/licenses/LICENSE-2.0\n",
              "//\n",
              "// Unless required by applicable law or agreed to in writing, software\n",
              "// distributed under the License is distributed on an \"AS IS\" BASIS,\n",
              "// WITHOUT WARRANTIES OR CONDITIONS OF ANY KIND, either express or implied.\n",
              "// See the License for the specific language governing permissions and\n",
              "// limitations under the License.\n",
              "\n",
              "/**\n",
              " * @fileoverview Helpers for google.colab Python module.\n",
              " */\n",
              "(function(scope) {\n",
              "function span(text, styleAttributes = {}) {\n",
              "  const element = document.createElement('span');\n",
              "  element.textContent = text;\n",
              "  for (const key of Object.keys(styleAttributes)) {\n",
              "    element.style[key] = styleAttributes[key];\n",
              "  }\n",
              "  return element;\n",
              "}\n",
              "\n",
              "// Max number of bytes which will be uploaded at a time.\n",
              "const MAX_PAYLOAD_SIZE = 100 * 1024;\n",
              "\n",
              "function _uploadFiles(inputId, outputId) {\n",
              "  const steps = uploadFilesStep(inputId, outputId);\n",
              "  const outputElement = document.getElementById(outputId);\n",
              "  // Cache steps on the outputElement to make it available for the next call\n",
              "  // to uploadFilesContinue from Python.\n",
              "  outputElement.steps = steps;\n",
              "\n",
              "  return _uploadFilesContinue(outputId);\n",
              "}\n",
              "\n",
              "// This is roughly an async generator (not supported in the browser yet),\n",
              "// where there are multiple asynchronous steps and the Python side is going\n",
              "// to poll for completion of each step.\n",
              "// This uses a Promise to block the python side on completion of each step,\n",
              "// then passes the result of the previous step as the input to the next step.\n",
              "function _uploadFilesContinue(outputId) {\n",
              "  const outputElement = document.getElementById(outputId);\n",
              "  const steps = outputElement.steps;\n",
              "\n",
              "  const next = steps.next(outputElement.lastPromiseValue);\n",
              "  return Promise.resolve(next.value.promise).then((value) => {\n",
              "    // Cache the last promise value to make it available to the next\n",
              "    // step of the generator.\n",
              "    outputElement.lastPromiseValue = value;\n",
              "    return next.value.response;\n",
              "  });\n",
              "}\n",
              "\n",
              "/**\n",
              " * Generator function which is called between each async step of the upload\n",
              " * process.\n",
              " * @param {string} inputId Element ID of the input file picker element.\n",
              " * @param {string} outputId Element ID of the output display.\n",
              " * @return {!Iterable<!Object>} Iterable of next steps.\n",
              " */\n",
              "function* uploadFilesStep(inputId, outputId) {\n",
              "  const inputElement = document.getElementById(inputId);\n",
              "  inputElement.disabled = false;\n",
              "\n",
              "  const outputElement = document.getElementById(outputId);\n",
              "  outputElement.innerHTML = '';\n",
              "\n",
              "  const pickedPromise = new Promise((resolve) => {\n",
              "    inputElement.addEventListener('change', (e) => {\n",
              "      resolve(e.target.files);\n",
              "    });\n",
              "  });\n",
              "\n",
              "  const cancel = document.createElement('button');\n",
              "  inputElement.parentElement.appendChild(cancel);\n",
              "  cancel.textContent = 'Cancel upload';\n",
              "  const cancelPromise = new Promise((resolve) => {\n",
              "    cancel.onclick = () => {\n",
              "      resolve(null);\n",
              "    };\n",
              "  });\n",
              "\n",
              "  // Wait for the user to pick the files.\n",
              "  const files = yield {\n",
              "    promise: Promise.race([pickedPromise, cancelPromise]),\n",
              "    response: {\n",
              "      action: 'starting',\n",
              "    }\n",
              "  };\n",
              "\n",
              "  cancel.remove();\n",
              "\n",
              "  // Disable the input element since further picks are not allowed.\n",
              "  inputElement.disabled = true;\n",
              "\n",
              "  if (!files) {\n",
              "    return {\n",
              "      response: {\n",
              "        action: 'complete',\n",
              "      }\n",
              "    };\n",
              "  }\n",
              "\n",
              "  for (const file of files) {\n",
              "    const li = document.createElement('li');\n",
              "    li.append(span(file.name, {fontWeight: 'bold'}));\n",
              "    li.append(span(\n",
              "        `(${file.type || 'n/a'}) - ${file.size} bytes, ` +\n",
              "        `last modified: ${\n",
              "            file.lastModifiedDate ? file.lastModifiedDate.toLocaleDateString() :\n",
              "                                    'n/a'} - `));\n",
              "    const percent = span('0% done');\n",
              "    li.appendChild(percent);\n",
              "\n",
              "    outputElement.appendChild(li);\n",
              "\n",
              "    const fileDataPromise = new Promise((resolve) => {\n",
              "      const reader = new FileReader();\n",
              "      reader.onload = (e) => {\n",
              "        resolve(e.target.result);\n",
              "      };\n",
              "      reader.readAsArrayBuffer(file);\n",
              "    });\n",
              "    // Wait for the data to be ready.\n",
              "    let fileData = yield {\n",
              "      promise: fileDataPromise,\n",
              "      response: {\n",
              "        action: 'continue',\n",
              "      }\n",
              "    };\n",
              "\n",
              "    // Use a chunked sending to avoid message size limits. See b/62115660.\n",
              "    let position = 0;\n",
              "    do {\n",
              "      const length = Math.min(fileData.byteLength - position, MAX_PAYLOAD_SIZE);\n",
              "      const chunk = new Uint8Array(fileData, position, length);\n",
              "      position += length;\n",
              "\n",
              "      const base64 = btoa(String.fromCharCode.apply(null, chunk));\n",
              "      yield {\n",
              "        response: {\n",
              "          action: 'append',\n",
              "          file: file.name,\n",
              "          data: base64,\n",
              "        },\n",
              "      };\n",
              "\n",
              "      let percentDone = fileData.byteLength === 0 ?\n",
              "          100 :\n",
              "          Math.round((position / fileData.byteLength) * 100);\n",
              "      percent.textContent = `${percentDone}% done`;\n",
              "\n",
              "    } while (position < fileData.byteLength);\n",
              "  }\n",
              "\n",
              "  // All done.\n",
              "  yield {\n",
              "    response: {\n",
              "      action: 'complete',\n",
              "    }\n",
              "  };\n",
              "}\n",
              "\n",
              "scope.google = scope.google || {};\n",
              "scope.google.colab = scope.google.colab || {};\n",
              "scope.google.colab._files = {\n",
              "  _uploadFiles,\n",
              "  _uploadFilesContinue,\n",
              "};\n",
              "})(self);\n",
              "</script> "
            ]
          },
          "metadata": {}
        },
        {
          "output_type": "stream",
          "name": "stdout",
          "text": [
            "Saving kaggle.json to kaggle.json\n"
          ]
        },
        {
          "output_type": "execute_result",
          "data": {
            "text/plain": [
              "{'kaggle.json': b'{\"username\":\"azar1538\",\"key\":\"778ee889c009c655ea869fbf7797664e\"}'}"
            ]
          },
          "metadata": {},
          "execution_count": 1
        }
      ]
    },
    {
      "cell_type": "code",
      "source": [
        "import os\n",
        "# Step 1: Create the correct Kaggle config directory\n",
        "os.makedirs('/root/.config/kaggle', exist_ok=True)"
      ],
      "metadata": {
        "id": "Dh0CdPFi3qb3"
      },
      "execution_count": 2,
      "outputs": []
    },
    {
      "cell_type": "code",
      "source": [
        "# Step 2: Move the uploaded kaggle.json to the correct location\n",
        "!mv kaggle.json /root/.config/kaggle/"
      ],
      "metadata": {
        "id": "_RJAGght36DM"
      },
      "execution_count": 3,
      "outputs": []
    },
    {
      "cell_type": "code",
      "source": [
        "# Set correct permissions\n",
        "!chmod 600 /root/.config/kaggle/kaggle.json"
      ],
      "metadata": {
        "id": "bH4yJYBy39NM"
      },
      "execution_count": 4,
      "outputs": []
    },
    {
      "cell_type": "code",
      "source": [
        "#list all dataset\n",
        "! kaggle datasets list"
      ],
      "metadata": {
        "id": "E0LJeXce4AOM"
      },
      "execution_count": null,
      "outputs": []
    },
    {
      "cell_type": "code",
      "source": [
        "from kaggle.api.kaggle_api_extended import KaggleApi\n",
        "# Authenticate and use the API\n",
        "api = KaggleApi()\n",
        "api.authenticate()\n",
        "\n",
        "# Create a folder for the dataset\n",
        "dataset_path = \"./insurance_data\"\n",
        "os.makedirs(dataset_path, exist_ok=True)\n",
        "\n",
        "# Download and unzip the dataset\n",
        "api.dataset_download_files('mirichoi0218/insurance', path=dataset_path, unzip=True)\n",
        "\n",
        "print(f\"✅ Dataset downloaded and extracted to: {dataset_path}\")"
      ],
      "metadata": {
        "colab": {
          "base_uri": "https://localhost:8080/"
        },
        "id": "kxQyssgz4Nsi",
        "outputId": "627908b7-7c5d-423f-8db0-4e160ffe2544"
      },
      "execution_count": 5,
      "outputs": [
        {
          "output_type": "stream",
          "name": "stdout",
          "text": [
            "Dataset URL: https://www.kaggle.com/datasets/mirichoi0218/insurance\n",
            "✅ Dataset downloaded and extracted to: ./insurance_data\n"
          ]
        }
      ]
    },
    {
      "cell_type": "code",
      "source": [
        "#view file\n",
        "\n",
        "files = os.listdir('./insurance_data')\n",
        "print(files)"
      ],
      "metadata": {
        "colab": {
          "base_uri": "https://localhost:8080/"
        },
        "id": "tS23Mn184jyp",
        "outputId": "923f7f5e-1e42-4937-b0f3-c5cdb758511f"
      },
      "execution_count": 6,
      "outputs": [
        {
          "output_type": "stream",
          "name": "stdout",
          "text": [
            "['insurance.csv']\n"
          ]
        }
      ]
    },
    {
      "cell_type": "code",
      "source": [
        "import pandas as pd\n",
        "\n",
        "# Load the CSV file\n",
        "df = pd.read_csv('./insurance_data/insurance.csv')\n",
        "\n",
        "# Display the first few rows\n",
        "df.head()\n",
        "# df.describe()"
      ],
      "metadata": {
        "colab": {
          "base_uri": "https://localhost:8080/",
          "height": 206
        },
        "id": "tybLrcos61Xw",
        "outputId": "1c32da0c-ceb0-4fea-8329-135889308887"
      },
      "execution_count": 7,
      "outputs": [
        {
          "output_type": "execute_result",
          "data": {
            "text/plain": [
              "   age     sex     bmi  children smoker     region      charges\n",
              "0   19  female  27.900         0    yes  southwest  16884.92400\n",
              "1   18    male  33.770         1     no  southeast   1725.55230\n",
              "2   28    male  33.000         3     no  southeast   4449.46200\n",
              "3   33    male  22.705         0     no  northwest  21984.47061\n",
              "4   32    male  28.880         0     no  northwest   3866.85520"
            ],
            "text/html": [
              "\n",
              "  <div id=\"df-fbdf5bff-ecce-446a-b600-a84c96215ab6\" class=\"colab-df-container\">\n",
              "    <div>\n",
              "<style scoped>\n",
              "    .dataframe tbody tr th:only-of-type {\n",
              "        vertical-align: middle;\n",
              "    }\n",
              "\n",
              "    .dataframe tbody tr th {\n",
              "        vertical-align: top;\n",
              "    }\n",
              "\n",
              "    .dataframe thead th {\n",
              "        text-align: right;\n",
              "    }\n",
              "</style>\n",
              "<table border=\"1\" class=\"dataframe\">\n",
              "  <thead>\n",
              "    <tr style=\"text-align: right;\">\n",
              "      <th></th>\n",
              "      <th>age</th>\n",
              "      <th>sex</th>\n",
              "      <th>bmi</th>\n",
              "      <th>children</th>\n",
              "      <th>smoker</th>\n",
              "      <th>region</th>\n",
              "      <th>charges</th>\n",
              "    </tr>\n",
              "  </thead>\n",
              "  <tbody>\n",
              "    <tr>\n",
              "      <th>0</th>\n",
              "      <td>19</td>\n",
              "      <td>female</td>\n",
              "      <td>27.900</td>\n",
              "      <td>0</td>\n",
              "      <td>yes</td>\n",
              "      <td>southwest</td>\n",
              "      <td>16884.92400</td>\n",
              "    </tr>\n",
              "    <tr>\n",
              "      <th>1</th>\n",
              "      <td>18</td>\n",
              "      <td>male</td>\n",
              "      <td>33.770</td>\n",
              "      <td>1</td>\n",
              "      <td>no</td>\n",
              "      <td>southeast</td>\n",
              "      <td>1725.55230</td>\n",
              "    </tr>\n",
              "    <tr>\n",
              "      <th>2</th>\n",
              "      <td>28</td>\n",
              "      <td>male</td>\n",
              "      <td>33.000</td>\n",
              "      <td>3</td>\n",
              "      <td>no</td>\n",
              "      <td>southeast</td>\n",
              "      <td>4449.46200</td>\n",
              "    </tr>\n",
              "    <tr>\n",
              "      <th>3</th>\n",
              "      <td>33</td>\n",
              "      <td>male</td>\n",
              "      <td>22.705</td>\n",
              "      <td>0</td>\n",
              "      <td>no</td>\n",
              "      <td>northwest</td>\n",
              "      <td>21984.47061</td>\n",
              "    </tr>\n",
              "    <tr>\n",
              "      <th>4</th>\n",
              "      <td>32</td>\n",
              "      <td>male</td>\n",
              "      <td>28.880</td>\n",
              "      <td>0</td>\n",
              "      <td>no</td>\n",
              "      <td>northwest</td>\n",
              "      <td>3866.85520</td>\n",
              "    </tr>\n",
              "  </tbody>\n",
              "</table>\n",
              "</div>\n",
              "    <div class=\"colab-df-buttons\">\n",
              "\n",
              "  <div class=\"colab-df-container\">\n",
              "    <button class=\"colab-df-convert\" onclick=\"convertToInteractive('df-fbdf5bff-ecce-446a-b600-a84c96215ab6')\"\n",
              "            title=\"Convert this dataframe to an interactive table.\"\n",
              "            style=\"display:none;\">\n",
              "\n",
              "  <svg xmlns=\"http://www.w3.org/2000/svg\" height=\"24px\" viewBox=\"0 -960 960 960\">\n",
              "    <path d=\"M120-120v-720h720v720H120Zm60-500h600v-160H180v160Zm220 220h160v-160H400v160Zm0 220h160v-160H400v160ZM180-400h160v-160H180v160Zm440 0h160v-160H620v160ZM180-180h160v-160H180v160Zm440 0h160v-160H620v160Z\"/>\n",
              "  </svg>\n",
              "    </button>\n",
              "\n",
              "  <style>\n",
              "    .colab-df-container {\n",
              "      display:flex;\n",
              "      gap: 12px;\n",
              "    }\n",
              "\n",
              "    .colab-df-convert {\n",
              "      background-color: #E8F0FE;\n",
              "      border: none;\n",
              "      border-radius: 50%;\n",
              "      cursor: pointer;\n",
              "      display: none;\n",
              "      fill: #1967D2;\n",
              "      height: 32px;\n",
              "      padding: 0 0 0 0;\n",
              "      width: 32px;\n",
              "    }\n",
              "\n",
              "    .colab-df-convert:hover {\n",
              "      background-color: #E2EBFA;\n",
              "      box-shadow: 0px 1px 2px rgba(60, 64, 67, 0.3), 0px 1px 3px 1px rgba(60, 64, 67, 0.15);\n",
              "      fill: #174EA6;\n",
              "    }\n",
              "\n",
              "    .colab-df-buttons div {\n",
              "      margin-bottom: 4px;\n",
              "    }\n",
              "\n",
              "    [theme=dark] .colab-df-convert {\n",
              "      background-color: #3B4455;\n",
              "      fill: #D2E3FC;\n",
              "    }\n",
              "\n",
              "    [theme=dark] .colab-df-convert:hover {\n",
              "      background-color: #434B5C;\n",
              "      box-shadow: 0px 1px 3px 1px rgba(0, 0, 0, 0.15);\n",
              "      filter: drop-shadow(0px 1px 2px rgba(0, 0, 0, 0.3));\n",
              "      fill: #FFFFFF;\n",
              "    }\n",
              "  </style>\n",
              "\n",
              "    <script>\n",
              "      const buttonEl =\n",
              "        document.querySelector('#df-fbdf5bff-ecce-446a-b600-a84c96215ab6 button.colab-df-convert');\n",
              "      buttonEl.style.display =\n",
              "        google.colab.kernel.accessAllowed ? 'block' : 'none';\n",
              "\n",
              "      async function convertToInteractive(key) {\n",
              "        const element = document.querySelector('#df-fbdf5bff-ecce-446a-b600-a84c96215ab6');\n",
              "        const dataTable =\n",
              "          await google.colab.kernel.invokeFunction('convertToInteractive',\n",
              "                                                    [key], {});\n",
              "        if (!dataTable) return;\n",
              "\n",
              "        const docLinkHtml = 'Like what you see? Visit the ' +\n",
              "          '<a target=\"_blank\" href=https://colab.research.google.com/notebooks/data_table.ipynb>data table notebook</a>'\n",
              "          + ' to learn more about interactive tables.';\n",
              "        element.innerHTML = '';\n",
              "        dataTable['output_type'] = 'display_data';\n",
              "        await google.colab.output.renderOutput(dataTable, element);\n",
              "        const docLink = document.createElement('div');\n",
              "        docLink.innerHTML = docLinkHtml;\n",
              "        element.appendChild(docLink);\n",
              "      }\n",
              "    </script>\n",
              "  </div>\n",
              "\n",
              "\n",
              "<div id=\"df-e9171ddb-5b2e-4cef-9602-a56921e35db2\">\n",
              "  <button class=\"colab-df-quickchart\" onclick=\"quickchart('df-e9171ddb-5b2e-4cef-9602-a56921e35db2')\"\n",
              "            title=\"Suggest charts\"\n",
              "            style=\"display:none;\">\n",
              "\n",
              "<svg xmlns=\"http://www.w3.org/2000/svg\" height=\"24px\"viewBox=\"0 0 24 24\"\n",
              "     width=\"24px\">\n",
              "    <g>\n",
              "        <path d=\"M19 3H5c-1.1 0-2 .9-2 2v14c0 1.1.9 2 2 2h14c1.1 0 2-.9 2-2V5c0-1.1-.9-2-2-2zM9 17H7v-7h2v7zm4 0h-2V7h2v10zm4 0h-2v-4h2v4z\"/>\n",
              "    </g>\n",
              "</svg>\n",
              "  </button>\n",
              "\n",
              "<style>\n",
              "  .colab-df-quickchart {\n",
              "      --bg-color: #E8F0FE;\n",
              "      --fill-color: #1967D2;\n",
              "      --hover-bg-color: #E2EBFA;\n",
              "      --hover-fill-color: #174EA6;\n",
              "      --disabled-fill-color: #AAA;\n",
              "      --disabled-bg-color: #DDD;\n",
              "  }\n",
              "\n",
              "  [theme=dark] .colab-df-quickchart {\n",
              "      --bg-color: #3B4455;\n",
              "      --fill-color: #D2E3FC;\n",
              "      --hover-bg-color: #434B5C;\n",
              "      --hover-fill-color: #FFFFFF;\n",
              "      --disabled-bg-color: #3B4455;\n",
              "      --disabled-fill-color: #666;\n",
              "  }\n",
              "\n",
              "  .colab-df-quickchart {\n",
              "    background-color: var(--bg-color);\n",
              "    border: none;\n",
              "    border-radius: 50%;\n",
              "    cursor: pointer;\n",
              "    display: none;\n",
              "    fill: var(--fill-color);\n",
              "    height: 32px;\n",
              "    padding: 0;\n",
              "    width: 32px;\n",
              "  }\n",
              "\n",
              "  .colab-df-quickchart:hover {\n",
              "    background-color: var(--hover-bg-color);\n",
              "    box-shadow: 0 1px 2px rgba(60, 64, 67, 0.3), 0 1px 3px 1px rgba(60, 64, 67, 0.15);\n",
              "    fill: var(--button-hover-fill-color);\n",
              "  }\n",
              "\n",
              "  .colab-df-quickchart-complete:disabled,\n",
              "  .colab-df-quickchart-complete:disabled:hover {\n",
              "    background-color: var(--disabled-bg-color);\n",
              "    fill: var(--disabled-fill-color);\n",
              "    box-shadow: none;\n",
              "  }\n",
              "\n",
              "  .colab-df-spinner {\n",
              "    border: 2px solid var(--fill-color);\n",
              "    border-color: transparent;\n",
              "    border-bottom-color: var(--fill-color);\n",
              "    animation:\n",
              "      spin 1s steps(1) infinite;\n",
              "  }\n",
              "\n",
              "  @keyframes spin {\n",
              "    0% {\n",
              "      border-color: transparent;\n",
              "      border-bottom-color: var(--fill-color);\n",
              "      border-left-color: var(--fill-color);\n",
              "    }\n",
              "    20% {\n",
              "      border-color: transparent;\n",
              "      border-left-color: var(--fill-color);\n",
              "      border-top-color: var(--fill-color);\n",
              "    }\n",
              "    30% {\n",
              "      border-color: transparent;\n",
              "      border-left-color: var(--fill-color);\n",
              "      border-top-color: var(--fill-color);\n",
              "      border-right-color: var(--fill-color);\n",
              "    }\n",
              "    40% {\n",
              "      border-color: transparent;\n",
              "      border-right-color: var(--fill-color);\n",
              "      border-top-color: var(--fill-color);\n",
              "    }\n",
              "    60% {\n",
              "      border-color: transparent;\n",
              "      border-right-color: var(--fill-color);\n",
              "    }\n",
              "    80% {\n",
              "      border-color: transparent;\n",
              "      border-right-color: var(--fill-color);\n",
              "      border-bottom-color: var(--fill-color);\n",
              "    }\n",
              "    90% {\n",
              "      border-color: transparent;\n",
              "      border-bottom-color: var(--fill-color);\n",
              "    }\n",
              "  }\n",
              "</style>\n",
              "\n",
              "  <script>\n",
              "    async function quickchart(key) {\n",
              "      const quickchartButtonEl =\n",
              "        document.querySelector('#' + key + ' button');\n",
              "      quickchartButtonEl.disabled = true;  // To prevent multiple clicks.\n",
              "      quickchartButtonEl.classList.add('colab-df-spinner');\n",
              "      try {\n",
              "        const charts = await google.colab.kernel.invokeFunction(\n",
              "            'suggestCharts', [key], {});\n",
              "      } catch (error) {\n",
              "        console.error('Error during call to suggestCharts:', error);\n",
              "      }\n",
              "      quickchartButtonEl.classList.remove('colab-df-spinner');\n",
              "      quickchartButtonEl.classList.add('colab-df-quickchart-complete');\n",
              "    }\n",
              "    (() => {\n",
              "      let quickchartButtonEl =\n",
              "        document.querySelector('#df-e9171ddb-5b2e-4cef-9602-a56921e35db2 button');\n",
              "      quickchartButtonEl.style.display =\n",
              "        google.colab.kernel.accessAllowed ? 'block' : 'none';\n",
              "    })();\n",
              "  </script>\n",
              "</div>\n",
              "\n",
              "    </div>\n",
              "  </div>\n"
            ],
            "application/vnd.google.colaboratory.intrinsic+json": {
              "type": "dataframe",
              "summary": "{\n  \"name\": \"# df\",\n  \"rows\": 5,\n  \"fields\": [\n    {\n      \"column\": \"age\",\n      \"properties\": {\n        \"dtype\": \"number\",\n        \"std\": 7,\n        \"min\": 18,\n        \"max\": 33,\n        \"num_unique_values\": 5,\n        \"samples\": [\n          18,\n          32,\n          28\n        ],\n        \"semantic_type\": \"\",\n        \"description\": \"\"\n      }\n    },\n    {\n      \"column\": \"sex\",\n      \"properties\": {\n        \"dtype\": \"category\",\n        \"num_unique_values\": 2,\n        \"samples\": [\n          \"male\",\n          \"female\"\n        ],\n        \"semantic_type\": \"\",\n        \"description\": \"\"\n      }\n    },\n    {\n      \"column\": \"bmi\",\n      \"properties\": {\n        \"dtype\": \"number\",\n        \"std\": 4.4522275323707365,\n        \"min\": 22.705,\n        \"max\": 33.77,\n        \"num_unique_values\": 5,\n        \"samples\": [\n          33.77,\n          28.88\n        ],\n        \"semantic_type\": \"\",\n        \"description\": \"\"\n      }\n    },\n    {\n      \"column\": \"children\",\n      \"properties\": {\n        \"dtype\": \"number\",\n        \"std\": 1,\n        \"min\": 0,\n        \"max\": 3,\n        \"num_unique_values\": 3,\n        \"samples\": [\n          0,\n          1\n        ],\n        \"semantic_type\": \"\",\n        \"description\": \"\"\n      }\n    },\n    {\n      \"column\": \"smoker\",\n      \"properties\": {\n        \"dtype\": \"category\",\n        \"num_unique_values\": 2,\n        \"samples\": [\n          \"no\",\n          \"yes\"\n        ],\n        \"semantic_type\": \"\",\n        \"description\": \"\"\n      }\n    },\n    {\n      \"column\": \"region\",\n      \"properties\": {\n        \"dtype\": \"string\",\n        \"num_unique_values\": 3,\n        \"samples\": [\n          \"southwest\",\n          \"southeast\"\n        ],\n        \"semantic_type\": \"\",\n        \"description\": \"\"\n      }\n    },\n    {\n      \"column\": \"charges\",\n      \"properties\": {\n        \"dtype\": \"number\",\n        \"std\": 9051.009157648406,\n        \"min\": 1725.5523,\n        \"max\": 21984.47061,\n        \"num_unique_values\": 5,\n        \"samples\": [\n          1725.5523,\n          3866.8552\n        ],\n        \"semantic_type\": \"\",\n        \"description\": \"\"\n      }\n    }\n  ]\n}"
            }
          },
          "metadata": {},
          "execution_count": 7
        }
      ]
    },
    {
      "cell_type": "code",
      "source": [
        "df.info()"
      ],
      "metadata": {
        "colab": {
          "base_uri": "https://localhost:8080/"
        },
        "id": "d4SIde3y7TTo",
        "outputId": "e50334c1-be3c-4df6-e07a-c0a249b1866a"
      },
      "execution_count": null,
      "outputs": [
        {
          "output_type": "stream",
          "name": "stdout",
          "text": [
            "<class 'pandas.core.frame.DataFrame'>\n",
            "RangeIndex: 1338 entries, 0 to 1337\n",
            "Data columns (total 7 columns):\n",
            " #   Column    Non-Null Count  Dtype  \n",
            "---  ------    --------------  -----  \n",
            " 0   age       1338 non-null   int64  \n",
            " 1   sex       1338 non-null   object \n",
            " 2   bmi       1338 non-null   float64\n",
            " 3   children  1338 non-null   int64  \n",
            " 4   smoker    1338 non-null   object \n",
            " 5   region    1338 non-null   object \n",
            " 6   charges   1338 non-null   float64\n",
            "dtypes: float64(2), int64(2), object(3)\n",
            "memory usage: 73.3+ KB\n"
          ]
        }
      ]
    },
    {
      "cell_type": "code",
      "source": [
        "import torch\n",
        "import torch.nn as nn\n",
        "import torch.optim as optim\n",
        "from sklearn.preprocessing import LabelEncoder, StandardScaler\n",
        "from sklearn.model_selection import train_test_split\n",
        "\n",
        "'''\n",
        "Convert text to numbers (LabelEncoder)\n",
        "\n",
        "Normalize values (StandardScaler)\n",
        "\n",
        "Split data into training and testing (train_test_split)\n",
        "'''"
      ],
      "metadata": {
        "id": "qMFnGVOg7sVr"
      },
      "execution_count": 8,
      "outputs": []
    },
    {
      "cell_type": "code",
      "source": [
        "#split dataset before encoding\n",
        "'''\n",
        "train_test_split()\tA function from sklearn.model_selection used to split data into training and testing sets.\n",
        "test_size=0.2\tMeans 20% of the data will go into the test set, and the remaining 80% will be for training.\n",
        "random_state=42\tA seed to make the split reproducible. If you use the same random_state, you'll always get the same split every time you run the code.\n",
        "'''\n",
        "train_df, test_df = train_test_split(df, test_size=0.2, random_state=42)\n"
      ],
      "metadata": {
        "id": "p4Seh5co8EVX"
      },
      "execution_count": 9,
      "outputs": []
    },
    {
      "cell_type": "code",
      "source": [
        "#Encode categorical variable\n",
        "'''\n",
        "Many machine learning models can’t handle categorical text like \"male\" or \"yes\" directly — they need numerical values.\n",
        "\n",
        "This code converts categorical columns like 'sex', 'smoker', and 'region' into numbers.\n",
        "'''\n",
        "lebel_encoder = {}\n",
        "for col in ['sex', 'smoker', 'region']:\n",
        "  lebel_encoder[col] = LabelEncoder()\n",
        "  train_df[col] = lebel_encoder[col].fit_transform(train_df[col])\n",
        "  '''\n",
        "  train_df['sex'] → ['male', 'female', 'male']\n",
        "  becomes\n",
        "  train_df['sex'] → [1, 0, 1]\n",
        "\n",
        "  '''\n",
        "  #Apply the same encoder to the test set.\n",
        "  test_df[col] = lebel_encoder[col].transform(test_df[col])\n"
      ],
      "metadata": {
        "id": "bpzIW_qk8wEb"
      },
      "execution_count": 10,
      "outputs": []
    },
    {
      "cell_type": "code",
      "source": [
        "# print(LabelEncoder().fit_transform(['male', 'female']))"
      ],
      "metadata": {
        "colab": {
          "base_uri": "https://localhost:8080/"
        },
        "id": "_cCIBvha922s",
        "outputId": "dee1f676-ff5a-4d67-ab8d-da09a501a9a3"
      },
      "execution_count": null,
      "outputs": [
        {
          "output_type": "stream",
          "name": "stdout",
          "text": [
            "['female' 'female' 'female' ... 'male' 'female' 'male']\n"
          ]
        }
      ]
    },
    {
      "cell_type": "code",
      "source": [
        "# Features and target\n",
        "\n",
        "x_train = train_df.drop(columns=['charges'])\n",
        "y_train = train_df['charges']\n",
        "\n",
        "x_test = test_df.drop(columns=['charges'])\n",
        "y_test = test_df['charges']\n"
      ],
      "metadata": {
        "id": "4B-mEE4l9FFm"
      },
      "execution_count": 11,
      "outputs": []
    },
    {
      "cell_type": "code",
      "source": [
        "print(x_train.head())\n",
        "print(y_train.head())"
      ],
      "metadata": {
        "colab": {
          "base_uri": "https://localhost:8080/"
        },
        "id": "JfitiWFW915m",
        "outputId": "cd089729-f9bd-4fee-f36d-76051754776a"
      },
      "execution_count": 14,
      "outputs": [
        {
          "output_type": "stream",
          "name": "stdout",
          "text": [
            "      age  sex    bmi  children  smoker  region\n",
            "560    46    0  19.95         2       0       1\n",
            "1285   47    0  24.32         0       0       0\n",
            "1142   52    0  24.86         0       0       2\n",
            "969    39    0  34.32         5       0       2\n",
            "486    54    0  21.47         3       0       1\n",
            "560      9193.83850\n",
            "1285     8534.67180\n",
            "1142    27117.99378\n",
            "969      8596.82780\n",
            "486     12475.35130\n",
            "Name: charges, dtype: float64\n"
          ]
        }
      ]
    },
    {
      "cell_type": "code",
      "source": [
        "#normalize feature\n",
        "\n",
        "scaler = StandardScaler()\n",
        "x_train = scaler.fit_transform(x_train)\n",
        "x_text = scaler.transform(x_test)\n"
      ],
      "metadata": {
        "id": "Ek2HUuBr-GEO"
      },
      "execution_count": 15,
      "outputs": []
    },
    {
      "cell_type": "code",
      "source": [
        "print(x_train)"
      ],
      "metadata": {
        "colab": {
          "base_uri": "https://localhost:8080/"
        },
        "id": "oEPKLglm-dge",
        "outputId": "2254bf03-94cb-4c5f-e284-21b6eb426de4"
      },
      "execution_count": 17,
      "outputs": [
        {
          "output_type": "stream",
          "name": "stdout",
          "text": [
            "[[ 0.47222651 -1.0246016  -1.75652513  0.73433626 -0.50874702 -0.45611589]\n",
            " [ 0.54331294 -1.0246016  -1.03308239 -0.91119211 -0.50874702 -1.35325561]\n",
            " [ 0.8987451  -1.0246016  -0.94368672 -0.91119211 -0.50874702  0.44102382]\n",
            " ...\n",
            " [ 1.3252637   0.97598911 -0.89153925 -0.91119211 -0.50874702 -1.35325561]\n",
            " [-0.16755139 -1.0246016   2.82086429  0.73433626  1.96561348  1.33816354]\n",
            " [ 1.1120044   0.97598911 -0.10932713 -0.91119211 -0.50874702  1.33816354]]\n"
          ]
        }
      ]
    },
    {
      "cell_type": "code",
      "source": [
        "#data only works in tensor\n",
        "x_train_tensor = torch.tensor(x_train, dtype=torch.float32)\n",
        "y_train_tensor = torch.tensor(y_train.values, dtype=torch.float32).view(-1, 1) #flatten\n",
        "\n",
        "x_test_tensor = torch.tensor(x_text, dtype=torch.float32)\n",
        "y_test_tensor = torch.tensor(y_test.values, dtype=torch.float32).view(-1, 1)"
      ],
      "metadata": {
        "id": "6Oz04K5M-n41"
      },
      "execution_count": 20,
      "outputs": []
    },
    {
      "cell_type": "code",
      "source": [
        "print(y_train_tensor)\n",
        "print(y_train_tensor.shape)\n",
        "\n",
        "print(x_test_tensor)\n",
        "print(x_test_tensor.shape)"
      ],
      "metadata": {
        "colab": {
          "base_uri": "https://localhost:8080/"
        },
        "id": "B-8SI76r-n6F",
        "outputId": "a8490523-7d23-4aa9-de5e-56574e6c1e4b"
      },
      "execution_count": 24,
      "outputs": [
        {
          "output_type": "stream",
          "name": "stdout",
          "text": [
            "tensor([[ 9193.8389],\n",
            "        [ 8534.6719],\n",
            "        [27117.9941],\n",
            "        ...,\n",
            "        [11931.1250],\n",
            "        [46113.5117],\n",
            "        [10214.6357]])\n",
            "torch.Size([1070, 1])\n",
            "tensor([[ 0.4011, -1.0246, -0.8915,  0.7343, -0.5087, -1.3533],\n",
            "        [-0.2386, -1.0246, -0.0895, -0.9112, -0.5087, -0.4561],\n",
            "        [ 1.7518, -1.0246, -0.6085, -0.9112,  1.9656, -0.4561],\n",
            "        ...,\n",
            "        [-0.0965,  0.9760, -0.4197, -0.0884, -0.5087, -1.3533],\n",
            "        [ 1.0409, -1.0246,  2.7894, -0.9112,  1.9656,  0.4410],\n",
            "        [ 0.8277, -1.0246,  0.6025, -0.0884, -0.5087,  1.3382]])\n",
            "torch.Size([268, 6])\n"
          ]
        }
      ]
    },
    {
      "cell_type": "code",
      "source": [
        "class SimpleNNRegressionModel(nn.Module):\n",
        "  def __init__(self, input_dim):\n",
        "    super(SimpleNNRegressionModel, self).__init__()\n",
        "    self.network = nn.Sequential(\n",
        "      nn.Linear(input_dim, 64),\n",
        "      nn.ReLU(),\n",
        "      nn.Linear(64, 128),\n",
        "      nn.ReLU(),\n",
        "      nn.Linear(128, 1)\n",
        "    )\n",
        "\n",
        "  def forward(self, x):\n",
        "    return self.network(x)\n",
        "\n",
        "'''\n",
        "Input layer → 64 neurons → ReLU\n",
        "\n",
        "Hidden layer → 128 neurons → ReLU\n",
        "\n",
        "Output → 1 number (insurance charge)\n",
        "'''"
      ],
      "metadata": {
        "id": "AkF-O-3F_nwe"
      },
      "execution_count": 27,
      "outputs": []
    },
    {
      "cell_type": "code",
      "source": [
        "\n",
        "x_train_tensor.shape"
      ],
      "metadata": {
        "colab": {
          "base_uri": "https://localhost:8080/"
        },
        "id": "2harHDUEA3WW",
        "outputId": "147b61a0-6cfe-4f9d-deb8-de124cf9287b"
      },
      "execution_count": 28,
      "outputs": [
        {
          "output_type": "execute_result",
          "data": {
            "text/plain": [
              "torch.Size([1070, 6])"
            ]
          },
          "metadata": {},
          "execution_count": 28
        }
      ]
    },
    {
      "cell_type": "code",
      "source": [
        "input_dim = x_train_tensor.shape[1]\n",
        "model = SimpleNNRegressionModel(input_dim)"
      ],
      "metadata": {
        "id": "fZJvdRnjA5tt"
      },
      "execution_count": 31,
      "outputs": []
    },
    {
      "cell_type": "code",
      "source": [
        "print(model)"
      ],
      "metadata": {
        "colab": {
          "base_uri": "https://localhost:8080/"
        },
        "id": "wYpPNWCWBNaf",
        "outputId": "6ff64469-e82e-4592-fb52-db7eb6496b42"
      },
      "execution_count": 32,
      "outputs": [
        {
          "output_type": "stream",
          "name": "stdout",
          "text": [
            "SimpleNNRegressionModel(\n",
            "  (network): Sequential(\n",
            "    (0): Linear(in_features=6, out_features=64, bias=True)\n",
            "    (1): ReLU()\n",
            "    (2): Linear(in_features=64, out_features=128, bias=True)\n",
            "    (3): ReLU()\n",
            "    (4): Linear(in_features=128, out_features=1, bias=True)\n",
            "  )\n",
            ")\n"
          ]
        }
      ]
    },
    {
      "cell_type": "code",
      "source": [
        "#loss and optimizer\n",
        "criterion = nn.MSELoss()\n",
        "optimizer = optim.Adam(model.parameters(), lr=0.01)\n",
        "\n",
        "'''\n",
        "Loss function = how wrong the prediction is (MSE = Mean Squared Error)\n",
        "\n",
        "Optimizer = improves the model by learning (Adam is a smart optimizer)\n",
        "'''"
      ],
      "metadata": {
        "id": "Cz1cmkQxBUBG"
      },
      "execution_count": 34,
      "outputs": []
    },
    {
      "cell_type": "code",
      "source": [
        "#training loop\n",
        "\n",
        "epochs = 10000\n",
        "for e in range(epochs):\n",
        "  model.train()\n",
        "  optimizer.zero_grad()\n",
        "  predictions = model(x_train_tensor)\n",
        "  loss = criterion(predictions, y_train_tensor)\n",
        "  loss.backward()\n",
        "  optimizer.step()\n",
        "\n",
        "  if (e+1) % 100 == 0:\n",
        "    print(f'Epoch {e}, Loss: {loss.item()}')"
      ],
      "metadata": {
        "colab": {
          "base_uri": "https://localhost:8080/"
        },
        "id": "ycmdloJABjol",
        "outputId": "0b124dba-e11a-4ff1-a506-9f6c4d23bd05"
      },
      "execution_count": 35,
      "outputs": [
        {
          "output_type": "stream",
          "name": "stdout",
          "text": [
            "Epoch 99, Loss: 47472324.0\n",
            "Epoch 199, Loss: 31405228.0\n",
            "Epoch 299, Loss: 28731418.0\n",
            "Epoch 399, Loss: 26832536.0\n",
            "Epoch 499, Loss: 25697270.0\n",
            "Epoch 599, Loss: 24859516.0\n",
            "Epoch 699, Loss: 24199956.0\n",
            "Epoch 799, Loss: 23578772.0\n",
            "Epoch 899, Loss: 22627194.0\n",
            "Epoch 999, Loss: 21839646.0\n",
            "Epoch 1099, Loss: 21235072.0\n",
            "Epoch 1199, Loss: 20828126.0\n",
            "Epoch 1299, Loss: 20507280.0\n",
            "Epoch 1399, Loss: 20242768.0\n",
            "Epoch 1499, Loss: 19958994.0\n",
            "Epoch 1599, Loss: 19660592.0\n",
            "Epoch 1699, Loss: 19335654.0\n",
            "Epoch 1799, Loss: 19078162.0\n",
            "Epoch 1899, Loss: 18841620.0\n",
            "Epoch 1999, Loss: 18662594.0\n",
            "Epoch 2099, Loss: 18473814.0\n",
            "Epoch 2199, Loss: 18298142.0\n",
            "Epoch 2299, Loss: 18096454.0\n",
            "Epoch 2399, Loss: 17811936.0\n",
            "Epoch 2499, Loss: 17546706.0\n",
            "Epoch 2599, Loss: 17338808.0\n",
            "Epoch 2699, Loss: 17116940.0\n",
            "Epoch 2799, Loss: 16912140.0\n",
            "Epoch 2899, Loss: 16703955.0\n",
            "Epoch 2999, Loss: 16495570.0\n",
            "Epoch 3099, Loss: 16286410.0\n",
            "Epoch 3199, Loss: 16071958.0\n",
            "Epoch 3299, Loss: 15864689.0\n",
            "Epoch 3399, Loss: 15625262.0\n",
            "Epoch 3499, Loss: 15335598.0\n",
            "Epoch 3599, Loss: 15088777.0\n",
            "Epoch 3699, Loss: 14831023.0\n",
            "Epoch 3799, Loss: 14624484.0\n",
            "Epoch 3899, Loss: 14403303.0\n",
            "Epoch 3999, Loss: 14176220.0\n",
            "Epoch 4099, Loss: 13990268.0\n",
            "Epoch 4199, Loss: 13808622.0\n",
            "Epoch 4299, Loss: 13624629.0\n",
            "Epoch 4399, Loss: 13394769.0\n",
            "Epoch 4499, Loss: 13145066.0\n",
            "Epoch 4599, Loss: 12922468.0\n",
            "Epoch 4699, Loss: 12632118.0\n",
            "Epoch 4799, Loss: 12375541.0\n",
            "Epoch 4899, Loss: 12172197.0\n",
            "Epoch 4999, Loss: 11970337.0\n",
            "Epoch 5099, Loss: 11788828.0\n",
            "Epoch 5199, Loss: 11543706.0\n",
            "Epoch 5299, Loss: 11372959.0\n",
            "Epoch 5399, Loss: 11209085.0\n",
            "Epoch 5499, Loss: 11046665.0\n",
            "Epoch 5599, Loss: 10913724.0\n",
            "Epoch 5699, Loss: 10762120.0\n",
            "Epoch 5799, Loss: 10622654.0\n",
            "Epoch 5899, Loss: 10462767.0\n",
            "Epoch 5999, Loss: 10326251.0\n",
            "Epoch 6099, Loss: 10199598.0\n",
            "Epoch 6199, Loss: 10074291.0\n",
            "Epoch 6299, Loss: 9949039.0\n",
            "Epoch 6399, Loss: 9851960.0\n",
            "Epoch 6499, Loss: 9729079.0\n",
            "Epoch 6599, Loss: 9626449.0\n",
            "Epoch 6699, Loss: 9521914.0\n",
            "Epoch 6799, Loss: 9415341.0\n",
            "Epoch 6899, Loss: 9313636.0\n",
            "Epoch 6999, Loss: 9232902.0\n",
            "Epoch 7099, Loss: 9160896.0\n",
            "Epoch 7199, Loss: 9104083.0\n",
            "Epoch 7299, Loss: 9042234.0\n",
            "Epoch 7399, Loss: 8989562.0\n",
            "Epoch 7499, Loss: 8918554.0\n",
            "Epoch 7599, Loss: 8841427.0\n",
            "Epoch 7699, Loss: 8803560.0\n",
            "Epoch 7799, Loss: 8746802.0\n",
            "Epoch 7899, Loss: 8710111.0\n",
            "Epoch 7999, Loss: 8669220.0\n",
            "Epoch 8099, Loss: 8636736.0\n",
            "Epoch 8199, Loss: 8604419.0\n",
            "Epoch 8299, Loss: 8556359.0\n",
            "Epoch 8399, Loss: 8511514.0\n",
            "Epoch 8499, Loss: 8464671.0\n",
            "Epoch 8599, Loss: 8425540.0\n",
            "Epoch 8699, Loss: 8365104.0\n",
            "Epoch 8799, Loss: 8336454.0\n",
            "Epoch 8899, Loss: 8289312.5\n",
            "Epoch 8999, Loss: 8238701.0\n",
            "Epoch 9099, Loss: 8188025.5\n",
            "Epoch 9199, Loss: 8155444.0\n",
            "Epoch 9299, Loss: 8099283.0\n",
            "Epoch 9399, Loss: 8078955.0\n",
            "Epoch 9499, Loss: 8030818.5\n",
            "Epoch 9599, Loss: 8000395.0\n",
            "Epoch 9699, Loss: 7969521.5\n",
            "Epoch 9799, Loss: 7933264.5\n",
            "Epoch 9899, Loss: 7890491.0\n",
            "Epoch 9999, Loss: 7856127.5\n"
          ]
        }
      ]
    },
    {
      "cell_type": "code",
      "source": [
        "#model Evalution\n",
        "\n",
        "model.eval()\n",
        "y_pred = model(x_test_tensor).detach().numpy()\n"
      ],
      "metadata": {
        "id": "v1n-9JQ0CU2F"
      },
      "execution_count": 36,
      "outputs": []
    },
    {
      "cell_type": "code",
      "source": [
        "from sklearn.metrics import mean_squared_error, r2_score, mean_absolute_error\n",
        "y_test_numpy = y_test_tensor.numpy()\n",
        "\n",
        "mse = mean_squared_error(y_test_numpy, y_pred)\n",
        "rmse = mse ** 0.5\n",
        "mae = mean_absolute_error(y_test_numpy, y_pred)\n",
        "r2 = r2_score(y_test, y_pred)\n",
        "\n",
        "print(f'MSE: {mse}')\n",
        "print(f'RMSE: {rmse}')\n",
        "print(f'MAE: {mae}')\n",
        "print(f'R2 Score: {r2}')\n",
        "\n",
        "'''\n",
        "MSE: Mean of squared errors\n",
        "\n",
        "RMSE: Square root of MSE (easier to understand)\n",
        "\n",
        "MAE: Average error\n",
        "\n",
        "R² Score: How well model explains the data (closer to 1 is better)\n",
        "'''"
      ],
      "metadata": {
        "colab": {
          "base_uri": "https://localhost:8080/"
        },
        "id": "PfXfi235CoP2",
        "outputId": "357b1729-25eb-437a-a9b5-7ec5ab1f6d7a"
      },
      "execution_count": 37,
      "outputs": [
        {
          "output_type": "stream",
          "name": "stdout",
          "text": [
            "MSE: 36006440.0\n",
            "RMSE: 6000.5366426678875\n",
            "MAE: 3915.944091796875\n",
            "R2 Score: 0.7680725788908667\n"
          ]
        }
      ]
    },
    {
      "cell_type": "code",
      "source": [
        "# def predict_charges(age, sex, bmi, children, smoker,region):\n",
        "#   input_data = pd.DataFrame([[age, sex, bmi, children, smoker,region]],\n",
        "#                columns=['age', 'sex', 'bmi', 'children', 'smoker', 'region'])\n",
        "\n",
        "#   for col in ['sex', 'smoker', 'region']:\n",
        "#     input_data[col] = lebel_encoder[col].transform(input_data[col])\n",
        "#     input_data = scaler.transform(input_data)\n",
        "#     input_tensor = torch.tensor(input_data, dtype=torch.float32)\n",
        "#     predicted_charge = model(input_tensor).item()\n",
        "#     return predicted_charge\n",
        "\n",
        "def predict_charges(age, sex, bmi, children, smoker, region):\n",
        "  input_data = pd.DataFrame([[age, sex, bmi, children, smoker, region]],\n",
        "               columns=['age', 'sex', 'bmi', 'children', 'smoker', 'region'])\n",
        "\n",
        "  # Loop through categorical columns and transform them\n",
        "  for col in ['sex', 'smoker', 'region']:\n",
        "    input_data[col] = lebel_encoder[col].transform(input_data[col])\n",
        "\n",
        "  # Scale the numerical features after encoding is complete\n",
        "  input_data = scaler.transform(input_data)\n",
        "\n",
        "  # Convert to PyTorch tensor and make prediction\n",
        "  input_tensor = torch.tensor(input_data, dtype=torch.float32)\n",
        "  predicted_charge = model(input_tensor).item()\n",
        "  return predicted_charge"
      ],
      "metadata": {
        "id": "D7hmk27cD8Tf"
      },
      "execution_count": 41,
      "outputs": []
    },
    {
      "cell_type": "code",
      "source": [
        "predicted = predict_charges(50, 'female', 27.9, 0, 'no', 'southwest')"
      ],
      "metadata": {
        "id": "9LkTDx7TEbVv"
      },
      "execution_count": 48,
      "outputs": []
    },
    {
      "cell_type": "code",
      "source": [
        "print(f\"Predicted insurance charge: ${predicted:.2f}\")"
      ],
      "metadata": {
        "colab": {
          "base_uri": "https://localhost:8080/"
        },
        "id": "f-Hg5A1OE8wV",
        "outputId": "5e64ab12-bc41-40a8-a6bd-1f9f5fca1e0c"
      },
      "execution_count": 49,
      "outputs": [
        {
          "output_type": "stream",
          "name": "stdout",
          "text": [
            "Predicted insurance charge: $10694.23\n"
          ]
        }
      ]
    },
    {
      "cell_type": "markdown",
      "source": [
        "# with visuals\n"
      ],
      "metadata": {
        "id": "tQtJKXZHJQNv"
      }
    },
    {
      "cell_type": "code",
      "source": [
        "# Store losses in a list\n",
        "losses = []\n",
        "\n",
        "epochs = 1000  # You can reduce from 10000 for quicker testing\n",
        "for e in range(epochs):\n",
        "    model.train()\n",
        "    optimizer.zero_grad()\n",
        "    predictions = model(x_train_tensor)\n",
        "    loss = criterion(predictions, y_train_tensor)\n",
        "    loss.backward()\n",
        "    optimizer.step()\n",
        "    losses.append(loss.item())\n",
        "\n",
        "    if (e+1) % 100 == 0:\n",
        "        print(f'Epoch {e+1}, Loss: {loss.item():.4f}')\n"
      ],
      "metadata": {
        "colab": {
          "base_uri": "https://localhost:8080/"
        },
        "id": "ptDmhQJzJS60",
        "outputId": "fbd2dc60-9dc9-4686-9347-3c02c2a2575d"
      },
      "execution_count": 57,
      "outputs": [
        {
          "output_type": "stream",
          "name": "stdout",
          "text": [
            "Epoch 100, Loss: 5496967.5000\n",
            "Epoch 200, Loss: 5501136.5000\n",
            "Epoch 300, Loss: 5500142.5000\n",
            "Epoch 400, Loss: 5488558.5000\n",
            "Epoch 500, Loss: 5468381.5000\n",
            "Epoch 600, Loss: 5446325.0000\n",
            "Epoch 700, Loss: 5425302.0000\n",
            "Epoch 800, Loss: 5422812.0000\n",
            "Epoch 900, Loss: 5424171.5000\n",
            "Epoch 1000, Loss: 5412710.0000\n"
          ]
        }
      ]
    },
    {
      "cell_type": "code",
      "source": [
        "# Plotting the loss curve\n",
        "import matplotlib.pyplot as plt\n",
        "\n",
        "plt.figure(figsize=(10,5))\n",
        "plt.plot(losses, label='Training Loss')\n",
        "plt.xlabel('Epochs')\n",
        "plt.ylabel('Loss (MSE)')\n",
        "plt.title('Training Loss Over Epochs')\n",
        "plt.legend()\n",
        "plt.grid(True)\n",
        "plt.show()\n"
      ],
      "metadata": {
        "colab": {
          "base_uri": "https://localhost:8080/",
          "height": 487
        },
        "id": "oEhPhKe6JUHm",
        "outputId": "be479589-63af-4c5f-e3fe-a55cb469f57f"
      },
      "execution_count": 58,
      "outputs": [
        {
          "output_type": "display_data",
          "data": {
            "text/plain": [
              "<Figure size 1000x500 with 1 Axes>"
            ],
            "image/png": "[encoded data removed]"
          },
          "metadata": {}
        }
      ]
    },
    {
      "cell_type": "code",
      "source": [
        "plt.figure(figsize=(10,5))\n",
        "plt.scatter(y_test_numpy, y_pred, alpha=0.6, color='teal')\n",
        "plt.xlabel(\"Actual Charges\")\n",
        "plt.ylabel(\"Predicted Charges\")\n",
        "plt.title(\"Actual vs Predicted Medical Charges\")\n",
        "plt.plot([y_test_numpy.min(), y_test_numpy.max()],\n",
        "         [y_test_numpy.min(), y_test_numpy.max()],\n",
        "         'r--', label=\"Perfect Prediction\")\n",
        "plt.legend()\n",
        "plt.grid(True)\n",
        "plt.show()\n"
      ],
      "metadata": {
        "colab": {
          "base_uri": "https://localhost:8080/",
          "height": 487
        },
        "id": "-DNxonh5JraA",
        "outputId": "61d1bd6b-c2ba-4f2c-e8f6-58991315309f"
      },
      "execution_count": 59,
      "outputs": [
        {
          "output_type": "display_data",
          "data": {
            "text/plain": [
              "<Figure size 1000x500 with 1 Axes>"
            ],
            "image/png": "[encoded data removed]"
          },
          "metadata": {}
        }
      ]
    }
  ]
}