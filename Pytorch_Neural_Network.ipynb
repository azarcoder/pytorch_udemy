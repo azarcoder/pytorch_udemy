{
  "nbformat": 4,
  "nbformat_minor": 0,
  "metadata": {
    "colab": {
      "provenance": [],
      "authorship_tag": "ABX9TyMDONwyWjDuKZftmpAerv4a",
      "include_colab_link": true
    },
    "kernelspec": {
      "name": "python3",
      "display_name": "Python 3"
    },
    "language_info": {
      "name": "python"
    }
  },
  "cells": [
    {
      "cell_type": "markdown",
      "metadata": {
        "id": "view-in-github",
        "colab_type": "text"
      },
      "source": [
        "<a href=\"https://colab.research.google.com/github/azarcoder/pytorch_udemy/blob/main/Pytorch_Neural_Network.ipynb\" target=\"_parent\"><img src=\"https://colab.research.google.com/assets/colab-badge.svg\" alt=\"Open In Colab\"/></a>"
      ]
    },
    {
      "cell_type": "markdown",
      "source": [
        "# Pytorch Neural Network"
      ],
      "metadata": {
        "id": "lOEvzy5y3r8N"
      }
    },
    {
      "cell_type": "code",
      "source": [
        "'''\n",
        "\n",
        "Breakdown of a simple neural network\n",
        "\n",
        "X --> input\n",
        "Wx --> Weights\n",
        "bx --> bias\n",
        "A --> Activation function\n",
        "Y ---> Output\n",
        "\n",
        "Z = W1.X + b1\n",
        "Z' = A(Z)\n",
        "Y = W2.Z' + b2\n",
        "\n",
        "# Loss function\n",
        "# Backpropagation\n",
        "# optimizer\n",
        "'''"
      ],
      "metadata": {
        "id": "njfgcN7A3-0V"
      },
      "execution_count": null,
      "outputs": []
    },
    {
      "cell_type": "markdown",
      "source": [
        "# Components pytorch\n",
        "\n",
        "- Base class for defining customer models : torch.nn.Module\n",
        "- Fully connected (dense) layers : torch.nn.Linear\n",
        "- Activation funciton : torch.nn.Relu\n",
        "- Optimiser : torch.optim\n",
        "- Loss function : torch.nn.CrossEntropyLoss\n",
        "- Loads data in batches : torch.utils.data.DataLoader\n",
        "\n",
        "# Different ways to creating neural network\n",
        "1. Fcuntional : flexible, harder to interpret\n",
        "2. Sequential : nn.Sequential\n"
      ],
      "metadata": {
        "id": "XgxNmXDi4v9t"
      }
    },
    {
      "cell_type": "markdown",
      "source": [
        "# Building neural network"
      ],
      "metadata": {
        "id": "WsomYkafg-NS"
      }
    },
    {
      "cell_type": "code",
      "source": [
        "import torch\n",
        "import torch.nn as nn\n",
        "import torch.optim as optim"
      ],
      "metadata": {
        "id": "vp4mJ8so4pQX"
      },
      "execution_count": 2,
      "outputs": []
    },
    {
      "cell_type": "code",
      "source": [
        "## Funtional API\n",
        "class NeuralNetwork(nn.Module):\n",
        "    def __init__(self, input_size, hidden_size, output_size):\n",
        "        super(NeuralNetwork, self).__init__()\n",
        "        #input connected to hidden\n",
        "        self.fc1 = nn.Linear(input_size, hidden_size) #fc1 - fully connected layer 1\n",
        "        # self.fc1(x) -> (relu) -> self.fc2(x)\n",
        "        self.relu = nn.ReLU()\n",
        "        #hidden connected to output\n",
        "        self.fc2 = nn.Linear(hidden_size, output_size) #fc2 - fully connected layer 2\n",
        "\n",
        "    #forward propogation\n",
        "    def forward(self, x):\n",
        "        out = self.fc1(x)\n",
        "        out = self.relu(out)\n",
        "        out = self.fc2(out)\n",
        "        return out"
      ],
      "metadata": {
        "id": "khVcdLaZhB2g"
      },
      "execution_count": 3,
      "outputs": []
    },
    {
      "cell_type": "code",
      "source": [
        "## Sequntial API\n",
        "class NeuralNetworkSequential(nn.Module):\n",
        "    def __init__(self, input_size, hidden_size, output_size):\n",
        "        super(NeuralNetwork, self).__init__()\n",
        "        self.network = nn.Sequential(\n",
        "            nn.Linear(input_size, hidden_size),\n",
        "            nn.ReLU(),\n",
        "            nn.Linear(hidden_size, output_size)\n",
        "        )\n",
        "\n",
        "    #forward propogation\n",
        "    def forward(self, x):\n",
        "      return self.network(x)\n"
      ],
      "metadata": {
        "id": "6hEgjeYvjic4"
      },
      "execution_count": null,
      "outputs": []
    },
    {
      "cell_type": "markdown",
      "source": [
        "# Training the neural network"
      ],
      "metadata": {
        "id": "rC2GEq35vQUL"
      }
    },
    {
      "cell_type": "code",
      "source": [
        "model = NeuralNetwork(input_size=4, hidden_size=8, output_size=3)\n",
        "print(model)"
      ],
      "metadata": {
        "colab": {
          "base_uri": "https://localhost:8080/"
        },
        "id": "xZQvJJz0vUKK",
        "outputId": "305356a7-f363-4969-ebf7-a017fe90917c"
      },
      "execution_count": 18,
      "outputs": [
        {
          "output_type": "stream",
          "name": "stdout",
          "text": [
            "NeuralNetwork(\n",
            "  (fc1): Linear(in_features=4, out_features=8, bias=True)\n",
            "  (relu): ReLU()\n",
            "  (fc2): Linear(in_features=8, out_features=3, bias=True)\n",
            ")\n"
          ]
        }
      ]
    },
    {
      "cell_type": "code",
      "source": [
        "x = torch.randn(10,4) #10 samples, 4 feature\n",
        "y = torch.randint(0, 3, (10,))\n",
        "\n",
        "#loss funciton\n",
        "criterion = nn.CrossEntropyLoss()\n",
        "\n",
        "#optimizer\n",
        "optimizer = optim.Adam(model.parameters(), lr=0.01)\n",
        "\n",
        "print(x, y)\n"
      ],
      "metadata": {
        "colab": {
          "base_uri": "https://localhost:8080/"
        },
        "id": "-UdIojtMvumL",
        "outputId": "9eecc90f-d747-4369-a710-243376cc2e60"
      },
      "execution_count": 19,
      "outputs": [
        {
          "output_type": "stream",
          "name": "stdout",
          "text": [
            "tensor([[ 0.3171, -1.4750, -0.7948,  0.7418],\n",
            "        [-0.8564,  0.1348, -1.5396,  0.0177],\n",
            "        [ 0.1808, -0.0817,  0.7762,  0.4544],\n",
            "        [-1.6900,  0.3752,  0.3853, -0.1453],\n",
            "        [-1.0765,  0.8338,  0.2417,  0.7283],\n",
            "        [ 1.3094, -1.2525,  0.4664,  0.1716],\n",
            "        [-0.3693, -0.0126, -0.3149,  0.7361],\n",
            "        [-0.3631, -1.3824, -0.7084,  1.3376],\n",
            "        [-0.3115, -0.0705,  0.5275,  0.5348],\n",
            "        [-0.3733,  0.1879,  0.7545,  0.9743]]) tensor([2, 2, 1, 2, 0, 0, 0, 0, 0, 1])\n"
          ]
        }
      ]
    },
    {
      "cell_type": "code",
      "source": [
        "#training loop\n",
        "\n",
        "epoch = 120\n",
        "\n",
        "for e in range(epoch):\n",
        "  optimizer.zero_grad()\n",
        "  outputs = model(x)\n",
        "  loss = criterion(outputs, y)\n",
        "  loss.backward()\n",
        "  optimizer.step()\n",
        "  # print(f'Epoch {e+1}/{epoch}, Loss: {loss.item():.4f}')\n",
        "  if((e+1)%10 == 0):\n",
        "    print(f'Epoch {e+1}/{epoch}, Loss: {loss.item():.4f}')"
      ],
      "metadata": {
        "colab": {
          "base_uri": "https://localhost:8080/"
        },
        "id": "Mh_NUi8uwxwn",
        "outputId": "a08eb605-0ae2-4e91-b18a-4e30c647b6f2"
      },
      "execution_count": 47,
      "outputs": [
        {
          "output_type": "stream",
          "name": "stdout",
          "text": [
            "Epoch 10/120, Loss: 0.0001\n",
            "Epoch 20/120, Loss: 0.0001\n",
            "Epoch 30/120, Loss: 0.0001\n",
            "Epoch 40/120, Loss: 0.0001\n",
            "Epoch 50/120, Loss: 0.0001\n",
            "Epoch 60/120, Loss: 0.0001\n",
            "Epoch 70/120, Loss: 0.0001\n",
            "Epoch 80/120, Loss: 0.0001\n",
            "Epoch 90/120, Loss: 0.0001\n",
            "Epoch 100/120, Loss: 0.0001\n",
            "Epoch 110/120, Loss: 0.0001\n",
            "Epoch 120/120, Loss: 0.0001\n"
          ]
        }
      ]
    }
  ]
}