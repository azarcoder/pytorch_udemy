{
  "nbformat": 4,
  "nbformat_minor": 0,
  "metadata": {
    "colab": {
      "provenance": [],
      "gpuType": "T4",
      "authorship_tag": "ABX9TyMysdstk6IV5QemOiUb7rFG",
      "include_colab_link": true
    },
    "kernelspec": {
      "name": "python3",
      "display_name": "Python 3"
    },
    "language_info": {
      "name": "python"
    },
    "accelerator": "GPU"
  },
  "cells": [
    {
      "cell_type": "markdown",
      "metadata": {
        "id": "view-in-github",
        "colab_type": "text"
      },
      "source": [
        "<a href=\"https://colab.research.google.com/github/azarcoder/pytorch_udemy/blob/main/PyTorch_intro_.ipynb\" target=\"_parent\"><img src=\"https://colab.research.google.com/assets/colab-badge.svg\" alt=\"Open In Colab\"/></a>"
      ]
    },
    {
      "cell_type": "markdown",
      "source": [
        "#### Pytroch\n",
        "- developed by facebook\n",
        "- > nvidia-smi - check CUDA in cmd\n",
        "- In PyTorch, a tensor is the basic building block—like a NumPy array, but with additional features that make it powerful for deep learning.\n",
        "\n",
        "| Rank | Tensor Type       | Example                                |\n",
        "|------|--------------------|----------------------------------------|\n",
        "| 0    | Scalar             | `torch.tensor(5)`                      |\n",
        "| 1    | Vector             | `torch.tensor([1, 2, 3])`              |\n",
        "| 2    | Matrix             | `torch.tensor([[1, 2], [3, 4]])`       |\n",
        "| 3+   | Higher-dim Tensor  | `torch.randn(3, 3, 28, 28)` (e.g. images) |\n",
        "\n",
        "\n"
      ],
      "metadata": {
        "id": "dKKb8cDhC5-D"
      }
    },
    {
      "cell_type": "code",
      "execution_count": null,
      "metadata": {
        "id": "x9ekp_cIqXNx",
        "colab": {
          "base_uri": "https://localhost:8080/"
        },
        "outputId": "8aeb0c13-4dd7-4e6e-f2d3-e440133cc1da"
      },
      "outputs": [
        {
          "output_type": "stream",
          "name": "stdout",
          "text": [
            "2.6.0+cu124\n",
            "True\n"
          ]
        }
      ],
      "source": [
        "import torch\n",
        "print(torch.__version__)\n",
        "print(torch.cuda.is_available())"
      ]
    },
    {
      "cell_type": "markdown",
      "source": [
        "## Creating tensors"
      ],
      "metadata": {
        "id": "luERqAhjKfj7"
      }
    },
    {
      "cell_type": "code",
      "source": [
        "# 1. Scalar tensor 0D - single dimention tensor called scaler\n",
        "# Tensor represents data in pytorch.\n",
        "\n",
        "scalar = torch.tensor(42)\n",
        "print(\"Scalar tensor : \", scalar)\n",
        "print(\"Scalar Dimension : \", scalar.ndim)\n",
        "print(\"Shape of Scalar tensor : \", scalar.shape)"
      ],
      "metadata": {
        "colab": {
          "base_uri": "https://localhost:8080/"
        },
        "id": "FYVJTxGvJjnr",
        "outputId": "6c16b58d-9a5e-4b8d-b059-0e88a0ea43c6"
      },
      "execution_count": null,
      "outputs": [
        {
          "output_type": "stream",
          "name": "stdout",
          "text": [
            "Scalar tensor :  tensor(42)\n",
            "Scalar Dimension :  0\n",
            "Shape of Scalar tensor :  torch.Size([])\n"
          ]
        }
      ]
    },
    {
      "cell_type": "markdown",
      "source": [
        "## creating 1D teonsor (Vector)\n"
      ],
      "metadata": {
        "id": "n3F6UH8pKnoK"
      }
    },
    {
      "cell_type": "code",
      "source": [
        "# 1D tensor : Vector\n",
        "\n",
        "vector = torch.tensor([1,2,3])\n",
        "print(\"vector tensor : \", vector)\n",
        "print(\"vector Dimension : \", vector.ndim)\n",
        "print(\"Shape of vector tensor : \", vector.shape)"
      ],
      "metadata": {
        "colab": {
          "base_uri": "https://localhost:8080/"
        },
        "id": "Y-ohcekOKio6",
        "outputId": "36889b9f-473b-45d3-ecf2-a19d353abfa6"
      },
      "execution_count": null,
      "outputs": [
        {
          "output_type": "stream",
          "name": "stdout",
          "text": [
            "vector tensor :  tensor([1, 2, 3])\n",
            "vector Dimension :  1\n",
            "Shape of vector tensor :  torch.Size([3])\n"
          ]
        }
      ]
    },
    {
      "cell_type": "markdown",
      "source": [
        "## Careating 2D - (matrix)"
      ],
      "metadata": {
        "id": "mk7YfEILLBxc"
      }
    },
    {
      "cell_type": "code",
      "source": [
        "# matrix 2D\n",
        "matrix = torch.tensor([[1,2], [3,4]])\n",
        "print(\"matrix tensor : \", matrix)\n",
        "print(\"matrix Dimension : \", matrix.ndim)\n",
        "print(\"Shape of matrix tensor : \", matrix.shape)"
      ],
      "metadata": {
        "colab": {
          "base_uri": "https://localhost:8080/"
        },
        "id": "ggak8OakLCAk",
        "outputId": "78d62ef3-5059-4144-bb9a-decfb5a7a1c0"
      },
      "execution_count": null,
      "outputs": [
        {
          "output_type": "stream",
          "name": "stdout",
          "text": [
            "matrix tensor :  tensor([[1, 2],\n",
            "        [3, 4]])\n",
            "matrix Dimension :  2\n",
            "Shape of matrix tensor :  torch.Size([2, 2])\n"
          ]
        }
      ]
    },
    {
      "cell_type": "markdown",
      "source": [
        "## 3 Dimentional (Tensors)"
      ],
      "metadata": {
        "id": "_gcJx97EL6rr"
      }
    },
    {
      "cell_type": "code",
      "source": [
        "# 3D tensor\n",
        "tensor3d = torch.tensor([\n",
        "                      [[1,2], [3,4]],\n",
        "                      [[1,2], [3,4]]\n",
        "                      ])\n",
        "print(\"tensor3d tensor : \", tensor3d)\n",
        "print(\"tensor3d Dimension : \", tensor3d.ndim)\n",
        "print(\"Shape of tensor3d tensor : \", tensor3d.shape)"
      ],
      "metadata": {
        "colab": {
          "base_uri": "https://localhost:8080/"
        },
        "id": "m5Gt6D0-L7DE",
        "outputId": "120a24ed-5e88-412c-b135-9802ab947fc9"
      },
      "execution_count": null,
      "outputs": [
        {
          "output_type": "stream",
          "name": "stdout",
          "text": [
            "tensor3d tensor :  tensor([[[1, 2],\n",
            "         [3, 4]],\n",
            "\n",
            "        [[1, 2],\n",
            "         [3, 4]]])\n",
            "tensor3d Dimension :  3\n",
            "Shape of tensor3d tensor :  torch.Size([2, 2, 2])\n"
          ]
        }
      ]
    },
    {
      "cell_type": "code",
      "source": [
        "# GPU acceleration\n",
        "\n",
        "if torch.cuda.is_available():\n",
        "  gpu_tensor = vector.to('cuda')\n",
        "  print(\"Tensor on GPU: \", gpu_tensor)\n",
        "else:\n",
        "  print(\"CUDA is not available on this machine.\")"
      ],
      "metadata": {
        "colab": {
          "base_uri": "https://localhost:8080/"
        },
        "id": "gEZqHORxMdKM",
        "outputId": "97fb0e20-aa8f-47b1-a179-24c8420bcb63"
      },
      "execution_count": null,
      "outputs": [
        {
          "output_type": "stream",
          "name": "stdout",
          "text": [
            "Tensor on GPU:  tensor([1, 2, 3], device='cuda:0')\n"
          ]
        }
      ]
    },
    {
      "cell_type": "code",
      "source": [
        "# Tensor properties\n",
        "\n",
        "print(\"Data type of matrix :\", matrix.dtype)\n",
        "\n",
        "print(\"Device of Tensor : \", matrix.device)\n",
        "print(\"Device of Tensor : \", gpu_tensor.device)\n",
        "\n",
        "print(\"Is tensor on CUDA : \", matrix.is_cuda)\n",
        "print(\"Is tensor on CUDA : \", gpu_tensor.is_cuda)\n",
        "\n",
        "print(\"Size: \", matrix.size())\n",
        "print(\"Number of elements : \", matrix.numel())"
      ],
      "metadata": {
        "colab": {
          "base_uri": "https://localhost:8080/"
        },
        "id": "I53_OfkqMh57",
        "outputId": "c5e21e9d-6fa6-43ab-c6b6-0f6f061db7c5"
      },
      "execution_count": null,
      "outputs": [
        {
          "output_type": "stream",
          "name": "stdout",
          "text": [
            "Data type of matrix : torch.int64\n",
            "Device of Tensor :  cpu\n",
            "Device of Tensor :  cuda:0\n",
            "Is tensor on CUDA :  False\n",
            "Is tensor on CUDA :  True\n",
            "Size:  torch.Size([2, 2])\n",
            "Number of elements :  4\n"
          ]
        }
      ]
    },
    {
      "cell_type": "code",
      "source": [
        "!nvidia-smi"
      ],
      "metadata": {
        "colab": {
          "base_uri": "https://localhost:8080/"
        },
        "id": "eoY1BwyCMlVT",
        "outputId": "1210c179-cce6-4e59-f3b5-ac93fc728dd5"
      },
      "execution_count": null,
      "outputs": [
        {
          "output_type": "stream",
          "name": "stdout",
          "text": [
            "Fri Apr 18 04:40:04 2025       \n",
            "+-----------------------------------------------------------------------------------------+\n",
            "| NVIDIA-SMI 550.54.15              Driver Version: 550.54.15      CUDA Version: 12.4     |\n",
            "|-----------------------------------------+------------------------+----------------------+\n",
            "| GPU  Name                 Persistence-M | Bus-Id          Disp.A | Volatile Uncorr. ECC |\n",
            "| Fan  Temp   Perf          Pwr:Usage/Cap |           Memory-Usage | GPU-Util  Compute M. |\n",
            "|                                         |                        |               MIG M. |\n",
            "|=========================================+========================+======================|\n",
            "|   0  Tesla T4                       Off |   00000000:00:04.0 Off |                    0 |\n",
            "| N/A   49C    P0             30W /   70W |     104MiB /  15360MiB |      0%      Default |\n",
            "|                                         |                        |                  N/A |\n",
            "+-----------------------------------------+------------------------+----------------------+\n",
            "                                                                                         \n",
            "+-----------------------------------------------------------------------------------------+\n",
            "| Processes:                                                                              |\n",
            "|  GPU   GI   CI        PID   Type   Process name                              GPU Memory |\n",
            "|        ID   ID                                                               Usage      |\n",
            "|=========================================================================================|\n",
            "+-----------------------------------------------------------------------------------------+\n"
          ]
        }
      ]
    },
    {
      "cell_type": "markdown",
      "source": [
        "## Indexing Tensors  and slicing"
      ],
      "metadata": {
        "id": "sUGbkNtoSJfl"
      }
    },
    {
      "cell_type": "code",
      "source": [
        "# accessing\n",
        "\n",
        "tensor = torch.tensor([[1, 2, 3], [4, 5, 6], [70, 80, 90]])\n",
        "print(tensor)\n",
        "print(tensor.ndim)\n",
        "print(tensor.shape)\n",
        "\n",
        "print('-'*20)\n",
        "print(\"accessing\")\n",
        "print(tensor[0])\n",
        "print(tensor[0,2])\n",
        "print(tensor[1,2])\n",
        "print(tensor[2,2])\n",
        "print('-'*20)\n",
        "print(\"slicing\")\n",
        "print(tensor[:, 1])\n",
        "print(tensor[1:, 1:])\n",
        "print(tensor[:2, :2])\n",
        "\n",
        "# Fancy indexing\n",
        "# (0,1) --> 20\n",
        "# (2,2) --> 90\n",
        "selected_elements = tensor[[0,2],[1,2]] #[0,1][2,2]\n",
        "print(selected_elements)\n",
        "\n",
        "print('-'*20)\n",
        "mask = tensor > 50 #elements grater than 50 is True\n",
        "print(mask)\n",
        "print(tensor[mask])\n",
        "\n",
        "#chnaging values\n",
        "\n",
        "tensor[:,0] = torch.tensor([100, 200, 300]) #1st column change\n",
        "print(tensor)\n",
        "\n",
        "indices = torch.tensor([0,2])\n",
        "selected_rows = torch.index_select(tensor,dim=1,index=indices)\n",
        "print(selected_rows)\n",
        "\n",
        "print(tensor[:, ::2]) #selecting column step 2\n",
        "# print(tensor[::-1]) it doen't work in pytorch\n",
        "torch.flip(tensor, dims=[0]) #flip rows"
      ],
      "metadata": {
        "colab": {
          "base_uri": "https://localhost:8080/"
        },
        "id": "mkgGbPXrSSrt",
        "outputId": "9ba6bd92-cf27-49dc-c1f9-e1ef8352d751"
      },
      "execution_count": null,
      "outputs": [
        {
          "output_type": "stream",
          "name": "stdout",
          "text": [
            "tensor([[ 1,  2,  3],\n",
            "        [ 4,  5,  6],\n",
            "        [70, 80, 90]])\n",
            "2\n",
            "torch.Size([3, 3])\n",
            "--------------------\n",
            "accessing\n",
            "tensor([1, 2, 3])\n",
            "tensor(3)\n",
            "tensor(6)\n",
            "tensor(90)\n",
            "--------------------\n",
            "slicing\n",
            "tensor([ 2,  5, 80])\n",
            "tensor([[ 5,  6],\n",
            "        [80, 90]])\n",
            "tensor([[1, 2],\n",
            "        [4, 5]])\n",
            "tensor([ 2, 90])\n",
            "--------------------\n",
            "tensor([[False, False, False],\n",
            "        [False, False, False],\n",
            "        [ True,  True,  True]])\n",
            "tensor([70, 80, 90])\n",
            "tensor([[100,   2,   3],\n",
            "        [200,   5,   6],\n",
            "        [300,  80,  90]])\n",
            "tensor([[100,   3],\n",
            "        [200,   6],\n",
            "        [300,  90]])\n",
            "tensor([[100,   3],\n",
            "        [200,   6],\n",
            "        [300,  90]])\n"
          ]
        },
        {
          "output_type": "execute_result",
          "data": {
            "text/plain": [
              "tensor([[300,  80,  90],\n",
              "        [200,   5,   6],\n",
              "        [100,   2,   3]])"
            ]
          },
          "metadata": {},
          "execution_count": 37
        }
      ]
    }
  ]
}