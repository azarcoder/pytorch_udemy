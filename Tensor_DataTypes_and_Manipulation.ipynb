{
  "nbformat": 4,
  "nbformat_minor": 0,
  "metadata": {
    "colab": {
      "provenance": [],
      "authorship_tag": "ABX9TyNdSiWDXqhx5oRCbsJzi+mQ",
      "include_colab_link": true
    },
    "kernelspec": {
      "name": "python3",
      "display_name": "Python 3"
    },
    "language_info": {
      "name": "python"
    }
  },
  "cells": [
    {
      "cell_type": "markdown",
      "metadata": {
        "id": "view-in-github",
        "colab_type": "text"
      },
      "source": [
        "<a href=\"https://colab.research.google.com/github/azarcoder/pytorch_udemy/blob/main/Tensor_DataTypes_and_Manipulation.ipynb\" target=\"_parent\"><img src=\"https://colab.research.google.com/assets/colab-badge.svg\" alt=\"Open In Colab\"/></a>"
      ]
    },
    {
      "cell_type": "code",
      "execution_count": null,
      "metadata": {
        "id": "5vaDdDVcjMRv"
      },
      "outputs": [],
      "source": [
        "# data types for tensors\n",
        "'''\n",
        "* floating -- for most deep learning tasks ---> float32, float64, float16\n",
        "* integers - for categorical data and indices --> int32, int64, int8\n",
        "* booleans - mask or logical operation\n",
        "* Complex number - advanced computation --> complex64, complex128\n",
        "\n",
        "memory consumption : float16 << float32 << float64\n",
        "computation : lower precision will be faster on gpu\n",
        "numberical precision : float64 is more precise than float32'''\n"
      ]
    },
    {
      "cell_type": "markdown",
      "source": [
        "- float32 --> default for most NN models\n",
        "- float64 --> high precision computation\n",
        "- int32 --> general purpose integer\n",
        "- int64 --> tensor indices\n",
        "- int8, int16 --> reduce memory usage\n",
        "- bool --> mask and logical operation\n",
        "- float16 --> half precision of your default floating dtype, reduce memory usage\n",
        "- complex64 --> advanced computation"
      ],
      "metadata": {
        "id": "8rGIAg1-uYh9"
      }
    },
    {
      "cell_type": "code",
      "source": [
        "import torch"
      ],
      "metadata": {
        "id": "-3O88s1AvPA1"
      },
      "execution_count": 1,
      "outputs": []
    },
    {
      "cell_type": "code",
      "source": [
        "float32_tensor = torch.ones(1000, dtype=torch.float32)\n",
        "float64_tensor = torch.ones(1000, dtype=torch.float64)\n",
        "\n",
        "# tensor.element_size()\n",
        "# element_size() --> gives you the size of one element in bytes\n",
        "# nelement() --> gives the total number of elements in tensor\n",
        "\n",
        "print(float32_tensor.element_size())\n",
        "print(float32_tensor.nelement())\n",
        "\n",
        "print(float64_tensor.element_size())\n",
        "print(float64_tensor.nelement())\n",
        "\n",
        "print(\"Memory used by float32 tensor : \", float32_tensor.element_size() * float32_tensor.nelement(), \" bytes\")\n",
        "print(\"Memory used by float64 tensor : \", float64_tensor.element_size() * float64_tensor.nelement(), \" bytes\")"
      ],
      "metadata": {
        "colab": {
          "base_uri": "https://localhost:8080/"
        },
        "id": "BkdAH-HVvQss",
        "outputId": "d229b7cc-d61c-4e1f-87da-007c45f55340"
      },
      "execution_count": 3,
      "outputs": [
        {
          "output_type": "stream",
          "name": "stdout",
          "text": [
            "4\n",
            "1000\n",
            "8\n",
            "1000\n",
            "Memory used by float32 tensor :  4000  bytes\n",
            "Memory used by float64 tensor :  8000  bytes\n"
          ]
        }
      ]
    },
    {
      "cell_type": "markdown",
      "source": [
        "# Tensor Manipulation\n",
        " - reshaping\n",
        " - slicing\n",
        " - joing and splitting\n",
        " - transposing and permuting dimention\n"
      ],
      "metadata": {
        "id": "up29Rj5cCXbv"
      }
    },
    {
      "cell_type": "code",
      "source": [
        "import torch"
      ],
      "metadata": {
        "id": "OVrdAYbBC_my"
      },
      "execution_count": 7,
      "outputs": []
    },
    {
      "cell_type": "markdown",
      "source": [
        "# Reshaping"
      ],
      "metadata": {
        "id": "GuxCPur4FGqq"
      }
    },
    {
      "cell_type": "code",
      "source": [
        "ogt = torch.arange(12)\n",
        "print(ogt)\n",
        "print(ogt.nelement())\n",
        "print(ogt.shape)\n",
        "print(ogt.ndim)"
      ],
      "metadata": {
        "colab": {
          "base_uri": "https://localhost:8080/"
        },
        "id": "0ZWr1d6hC2SR",
        "outputId": "341195ad-29e7-425c-a8f3-9e819f906b3c"
      },
      "execution_count": 12,
      "outputs": [
        {
          "output_type": "stream",
          "name": "stdout",
          "text": [
            "tensor([ 0,  1,  2,  3,  4,  5,  6,  7,  8,  9, 10, 11])\n",
            "12\n",
            "torch.Size([12])\n",
            "1\n"
          ]
        }
      ]
    },
    {
      "cell_type": "code",
      "source": [
        "#1d to 2d\n",
        "# reshape() works on both contiguous and non-contiguous tensors\n",
        "#create new copy\n",
        "mt = ogt.reshape(3,-1 )\n",
        "print(mt)\n",
        "print(mt.ndim)"
      ],
      "metadata": {
        "colab": {
          "base_uri": "https://localhost:8080/"
        },
        "id": "pmnT8BBcDRoF",
        "outputId": "a8d76c2e-2800-4318-97cc-d83fb7e97cf0"
      },
      "execution_count": 18,
      "outputs": [
        {
          "output_type": "stream",
          "name": "stdout",
          "text": [
            "tensor([[ 0,  1,  2,  3],\n",
            "        [ 4,  5,  6,  7],\n",
            "        [ 8,  9, 10, 11]])\n",
            "2\n"
          ]
        }
      ]
    },
    {
      "cell_type": "code",
      "source": [
        "print(ogt.is_contiguous())\n",
        "# view() does not copy data, it just gives a new “view” on the same memory.\n",
        "# view() works only on contiguous tensors.\n",
        "ogt.view(2,-1) #-1 means automatically ndim"
      ],
      "metadata": {
        "colab": {
          "base_uri": "https://localhost:8080/"
        },
        "id": "141hdeGfD2ZA",
        "outputId": "bbb6ab6f-48fe-4dbd-b69b-241c9f1d42b3"
      },
      "execution_count": 29,
      "outputs": [
        {
          "output_type": "stream",
          "name": "stdout",
          "text": [
            "True\n"
          ]
        },
        {
          "output_type": "execute_result",
          "data": {
            "text/plain": [
              "tensor([[ 0,  1,  2,  3,  4,  5],\n",
              "        [ 6,  7,  8,  9, 10, 11]])"
            ]
          },
          "metadata": {},
          "execution_count": 29
        }
      ]
    },
    {
      "cell_type": "markdown",
      "source": [
        "#Slicing"
      ],
      "metadata": {
        "id": "XVf4I8WOFJES"
      }
    },
    {
      "cell_type": "code",
      "source": [
        "t = torch.arange(1,10).reshape(3,3)\n",
        "print(t)\n",
        "'''\n",
        "[1, 2, 3]\n",
        "[4, 5, 6]\n",
        "[7, 8, 9]\n",
        "'''\n",
        "print(t[0])\n",
        "t[:,2]\n",
        "t[1:, 1:]"
      ],
      "metadata": {
        "colab": {
          "base_uri": "https://localhost:8080/"
        },
        "id": "5kJFSKHLFKvK",
        "outputId": "5fae8dcb-8f77-47d2-9c6f-4d44677676a7"
      },
      "execution_count": 37,
      "outputs": [
        {
          "output_type": "stream",
          "name": "stdout",
          "text": [
            "tensor([[1, 2, 3],\n",
            "        [4, 5, 6],\n",
            "        [7, 8, 9]])\n",
            "tensor([1, 2, 3])\n"
          ]
        },
        {
          "output_type": "execute_result",
          "data": {
            "text/plain": [
              "tensor([[5, 6],\n",
              "        [8, 9]])"
            ]
          },
          "metadata": {},
          "execution_count": 37
        }
      ]
    },
    {
      "cell_type": "markdown",
      "source": [
        "# Joining"
      ],
      "metadata": {
        "id": "5mjenlBdGNjv"
      }
    },
    {
      "cell_type": "code",
      "source": [
        "#torch.cat() -->merge tensors along an existing dimention\n",
        "\n",
        "t1 = torch.tensor([[1,2], [3,4]])\n",
        "t2 = torch.tensor([[5,6], [7,8]])\n",
        "j = torch.cat((t1, t2), dim=0) #0 means row 1 means col\n",
        "print(j)"
      ],
      "metadata": {
        "colab": {
          "base_uri": "https://localhost:8080/"
        },
        "id": "P0bpirtvGPtn",
        "outputId": "580d0ce2-61c8-4051-af46-763e51448930"
      },
      "execution_count": 40,
      "outputs": [
        {
          "output_type": "stream",
          "name": "stdout",
          "text": [
            "tensor([[1, 2],\n",
            "        [3, 4],\n",
            "        [5, 6],\n",
            "        [7, 8]])\n"
          ]
        }
      ]
    },
    {
      "cell_type": "markdown",
      "source": [
        "# stacking"
      ],
      "metadata": {
        "id": "LhCYIXtBJ4oC"
      }
    },
    {
      "cell_type": "code",
      "source": [
        "#stack --> created a new dimention, increses the tensor's rank\n",
        "t1 = torch.tensor([[1,2], [3,4]])\n",
        "t2 = torch.tensor([[5,6], [7,8]])\n",
        "\n",
        "s = torch.stack((t1, t2), dim=0)\n",
        "s2 = torch.stack((t1, t2), dim=1)\n",
        "print(s)\n",
        "print(s2)"
      ],
      "metadata": {
        "colab": {
          "base_uri": "https://localhost:8080/"
        },
        "id": "xXvggy7cIGyd",
        "outputId": "63aac39b-6833-40fa-f404-fd08f0b28494"
      },
      "execution_count": 51,
      "outputs": [
        {
          "output_type": "stream",
          "name": "stdout",
          "text": [
            "tensor([[[1, 2],\n",
            "         [3, 4]],\n",
            "\n",
            "        [[5, 6],\n",
            "         [7, 8]]])\n",
            "tensor([[[1, 2],\n",
            "         [5, 6]],\n",
            "\n",
            "        [[3, 4],\n",
            "         [7, 8]]])\n"
          ]
        }
      ]
    },
    {
      "cell_type": "markdown",
      "source": [
        "# Splitting\n",
        " - > torch.chunck() - divides your tensor into equal-sized chunks\n",
        " - > torch.split() - allows uneven splitting based on size"
      ],
      "metadata": {
        "id": "4j4l5hZFKB9j"
      }
    },
    {
      "cell_type": "code",
      "source": [
        "#torch.chuck()\n",
        "print('chunk:')\n",
        "t = torch.arange(12)\n",
        "x = torch.chunk(t, 5, dim = 0)\n",
        "\n",
        "for i in x:\n",
        "  print(i)\n",
        "\n",
        "print('-'*30)\n",
        "print('split:')\n",
        "x = torch.split(t, 5, dim = 0)\n",
        "\n",
        "for i in x:\n",
        "  print(i)"
      ],
      "metadata": {
        "colab": {
          "base_uri": "https://localhost:8080/"
        },
        "id": "15vqtzwaJ6Kp",
        "outputId": "7b5f282f-296d-49e7-a943-da713364bbc7"
      },
      "execution_count": 69,
      "outputs": [
        {
          "output_type": "stream",
          "name": "stdout",
          "text": [
            "chunk:\n",
            "tensor([0, 1, 2])\n",
            "tensor([3, 4, 5])\n",
            "tensor([6, 7, 8])\n",
            "tensor([ 9, 10, 11])\n",
            "------------------------------\n",
            "split:\n",
            "tensor([0, 1, 2, 3, 4])\n",
            "tensor([5, 6, 7, 8, 9])\n",
            "tensor([10, 11])\n"
          ]
        }
      ]
    },
    {
      "cell_type": "markdown",
      "source": [
        "# Transporsing and Permuting\n",
        "- > transpose() - swaps two dimentions mxn --> nmx\n",
        "- > premute() - rearranges all dimention in the specified order\n"
      ],
      "metadata": {
        "id": "F90e8WdnLc4S"
      }
    },
    {
      "cell_type": "code",
      "source": [
        "t = torch.arange(24).reshape(3, -1)\n",
        "print(t)\n",
        "tp = t.transpose(0, 1)\n",
        "print(tp)"
      ],
      "metadata": {
        "colab": {
          "base_uri": "https://localhost:8080/"
        },
        "id": "LDLQDipWL0tp",
        "outputId": "c742825e-2620-4e4a-de00-f7b76deb74f1"
      },
      "execution_count": 74,
      "outputs": [
        {
          "output_type": "stream",
          "name": "stdout",
          "text": [
            "tensor([[ 0,  1,  2,  3,  4,  5,  6,  7],\n",
            "        [ 8,  9, 10, 11, 12, 13, 14, 15],\n",
            "        [16, 17, 18, 19, 20, 21, 22, 23]])\n",
            "tensor([[ 0,  8, 16],\n",
            "        [ 1,  9, 17],\n",
            "        [ 2, 10, 18],\n",
            "        [ 3, 11, 19],\n",
            "        [ 4, 12, 20],\n",
            "        [ 5, 13, 21],\n",
            "        [ 6, 14, 22],\n",
            "        [ 7, 15, 23]])\n"
          ]
        }
      ]
    },
    {
      "cell_type": "code",
      "source": [
        "# x[batch][channel][width]\n",
        "x = torch.tensor([\n",
        "  [ [1, 2],     # x[0][0] → batch 0, channel 0\n",
        "    [3, 4] ],   # x[0][1] → batch 0, channel 1\n",
        "\n",
        "  [ [5, 6],     # x[1][0] → batch 1, channel 0\n",
        "    [7, 8] ]    # x[1][1] → batch 1, channel 1\n",
        "])\n",
        "\n",
        "'''\n",
        "So now, instead of:\n",
        "\n",
        "batch first,\n",
        "\n",
        "then channel,\n",
        "\n",
        "then width,\n",
        "\n",
        "We are saying:\n",
        "\n",
        "width first,\n",
        "\n",
        "then batch,\n",
        "\n",
        "then channel\n",
        "'''\n",
        "print(x)\n",
        "print(x.ndim)\n",
        "x = x.permute(2, 0, 1) #New shape will be (width, batch, channel)\n",
        "print(x)\n"
      ],
      "metadata": {
        "colab": {
          "base_uri": "https://localhost:8080/"
        },
        "id": "UFXIS14hXYtr",
        "outputId": "c3873f72-3ab2-4654-ef1b-212d0c3a4961"
      },
      "execution_count": 78,
      "outputs": [
        {
          "output_type": "stream",
          "name": "stdout",
          "text": [
            "tensor([[[1, 2],\n",
            "         [3, 4]],\n",
            "\n",
            "        [[5, 6],\n",
            "         [7, 8]]])\n",
            "3\n",
            "tensor([[[1, 3],\n",
            "         [5, 7]],\n",
            "\n",
            "        [[2, 4],\n",
            "         [6, 8]]])\n"
          ]
        }
      ]
    },
    {
      "cell_type": "markdown",
      "source": [
        "# Matrix Aggregation"
      ],
      "metadata": {
        "id": "kFCGNa1dfWqY"
      }
    },
    {
      "cell_type": "code",
      "source": [
        "t = torch.arange(9, dtype=float).reshape(3, -1)\n",
        "print(t)"
      ],
      "metadata": {
        "colab": {
          "base_uri": "https://localhost:8080/"
        },
        "id": "3L1G05MihRkA",
        "outputId": "91fe4fec-cd7e-4264-a8e5-8b8bb2ce1445"
      },
      "execution_count": 86,
      "outputs": [
        {
          "output_type": "stream",
          "name": "stdout",
          "text": [
            "tensor([[0., 1., 2.],\n",
            "        [3., 4., 5.],\n",
            "        [6., 7., 8.]], dtype=torch.float64)\n"
          ]
        }
      ]
    },
    {
      "cell_type": "code",
      "source": [
        "print(t.sum())\n",
        "print(t.min())\n",
        "print(t.max())\n",
        "print(t.median())\n",
        "print(t.mode())\n",
        "print(t.mean())"
      ],
      "metadata": {
        "colab": {
          "base_uri": "https://localhost:8080/"
        },
        "id": "0Ekx73gyha7P",
        "outputId": "e4747712-62c6-4133-afa9-114833621d0c"
      },
      "execution_count": 87,
      "outputs": [
        {
          "output_type": "stream",
          "name": "stdout",
          "text": [
            "tensor(36., dtype=torch.float64)\n",
            "tensor(0., dtype=torch.float64)\n",
            "tensor(8., dtype=torch.float64)\n",
            "tensor(4., dtype=torch.float64)\n",
            "torch.return_types.mode(\n",
            "values=tensor([0., 3., 6.], dtype=torch.float64),\n",
            "indices=tensor([0, 0, 0]))\n",
            "tensor(4., dtype=torch.float64)\n"
          ]
        }
      ]
    },
    {
      "cell_type": "code",
      "source": [
        "#dim=0 --> rows\n",
        "#dim=1 --> column\n",
        "\n",
        "print(t.sum(dim=0)) #row wise sum\n",
        "print(t.sum(dim=1)) #column wise sum"
      ],
      "metadata": {
        "colab": {
          "base_uri": "https://localhost:8080/"
        },
        "id": "yxxR2eq7iLnY",
        "outputId": "1de5b0ab-6c1d-43b9-eb1a-b813fae9ecd5"
      },
      "execution_count": 90,
      "outputs": [
        {
          "output_type": "stream",
          "name": "stdout",
          "text": [
            "tensor([ 9., 12., 15.], dtype=torch.float64)\n",
            "tensor([ 3., 12., 21.], dtype=torch.float64)\n"
          ]
        }
      ]
    },
    {
      "cell_type": "code",
      "source": [
        "cumulatice_sum = t.cumsum(dim=1)\n",
        "print(cumulatice_sum)\n",
        "\n",
        "cumulatice_prod = t.cumprod(dim=1)\n",
        "print(cumulatice_prod)"
      ],
      "metadata": {
        "colab": {
          "base_uri": "https://localhost:8080/"
        },
        "id": "vBmXzfPsiz9g",
        "outputId": "a79c5188-5d1b-4361-bf01-0e3644ecebd5"
      },
      "execution_count": 92,
      "outputs": [
        {
          "output_type": "stream",
          "name": "stdout",
          "text": [
            "tensor([[ 0.,  1.,  3.],\n",
            "        [ 3.,  7., 12.],\n",
            "        [ 6., 13., 21.]], dtype=torch.float64)\n",
            "tensor([[  0.,   0.,   0.],\n",
            "        [  3.,  12.,  60.],\n",
            "        [  6.,  42., 336.]], dtype=torch.float64)\n"
          ]
        }
      ]
    },
    {
      "cell_type": "code",
      "source": [
        "#masked\n",
        "\n",
        "masked_matrix_sum = t[t > 5]\n",
        "print(masked_matrix_sum)"
      ],
      "metadata": {
        "colab": {
          "base_uri": "https://localhost:8080/"
        },
        "id": "0OR9EVb6jw1_",
        "outputId": "9d07adef-98cd-4c0c-ee5e-392e8043195f"
      },
      "execution_count": 95,
      "outputs": [
        {
          "output_type": "stream",
          "name": "stdout",
          "text": [
            "tensor([6., 7., 8.], dtype=torch.float64)\n"
          ]
        }
      ]
    },
    {
      "cell_type": "markdown",
      "source": [
        "# Normalize matrix"
      ],
      "metadata": {
        "id": "dO66ts7PkX8f"
      }
    },
    {
      "cell_type": "code",
      "source": [
        "print(t)\n",
        "mxv = t.max()\n",
        "mxm = t.min()\n",
        "norm_t = (t - mxm) / (mxv - mxm) #formula\n",
        "print(norm_t)"
      ],
      "metadata": {
        "colab": {
          "base_uri": "https://localhost:8080/"
        },
        "id": "f-goPlnEki1H",
        "outputId": "67467957-3186-4dc0-f4c1-03de22f59bae"
      },
      "execution_count": 97,
      "outputs": [
        {
          "output_type": "stream",
          "name": "stdout",
          "text": [
            "tensor([[0., 1., 2.],\n",
            "        [3., 4., 5.],\n",
            "        [6., 7., 8.]], dtype=torch.float64)\n",
            "tensor([[0.0000, 0.1250, 0.2500],\n",
            "        [0.3750, 0.5000, 0.6250],\n",
            "        [0.7500, 0.8750, 1.0000]], dtype=torch.float64)\n"
          ]
        }
      ]
    }
  ]
}